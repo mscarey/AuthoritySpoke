{
 "cells": [
  {
   "cell_type": "markdown",
   "metadata": {},
   "source": [
    "# Legislative Rule Models with AuthoritySpoke"
   ]
  },
  {
   "cell_type": "markdown",
   "metadata": {},
   "source": [
    "This tutorial will show how to use [AuthoritySpoke](https://authorityspoke.readthedocs.io/en/latest/) to model legal rules found in legislation. This is a departure from most of the AuthoritySpoke documentation, which focuses on judicial holdings.\n",
    "\n",
    "These examples are based on the fictional [Australian Beard Tax (Promotion of Enlightenment Values) Act 1934](https://github.com/ServiceInnovationLab/example-rules-as-code), which was created thanks to the New Zealand [Service Innovation Lab](https://github.com/ServiceInnovationLab), for a chrestomathy of computable legal rule models.\n",
    "\n",
    "And thanks to Meng Weng Wong [for the vocab word \"chrestomathy\"](https://twitter.com/mengwong/status/1205720239406755840)."
   ]
  },
  {
   "cell_type": "markdown",
   "metadata": {},
   "source": [
    "The Service Innovation Lab's version of the Beard Tax Act is [a PDF](https://github.com/ServiceInnovationLab/example-rules-as-code/blob/master/legislation.pdf). AuthoritySpoke works best with XML input with an Akoma Ntoso or United States Legislative Markup schema. So I'll start by preparing and loading my own USLM version of the Act.\n",
    "\n",
    "Even though the Beard Tax Act is uncodified, in AuthoritySpoke any collection of legislation is an instance of the \"Code\" class."
   ]
  },
  {
   "cell_type": "code",
   "execution_count": 1,
   "metadata": {},
   "outputs": [
    {
     "data": {
      "text/plain": [
       "USLMCode(Australian Beard Tax (Promotion of Enlightenment Values) Act 1934)"
      ]
     },
     "execution_count": 1,
     "metadata": {},
     "output_type": "execute_result"
    }
   ],
   "source": [
    "from authorityspoke.io import loaders\n",
    "\n",
    "beard_act = loaders.load_and_read_code(\"beard_tax_act.xml\")\n",
    "beard_act"
   ]
  },
  {
   "cell_type": "markdown",
   "metadata": {},
   "source": [
    "Next, I'll prepare annotations for the statute provisions in a JSON file, and then load them as a Python dictionary. AuthoritySpoke rules are procedural, so they have one or more outputs, and zero or more inputs. They can also have \"despite\" factors, which are factors that may not support the output, but they don't preclude the output either.\n",
    "\n",
    "AuthoritySpoke rules are usually supported by enactments such as statute sections. These can be represented with the URI-like identifiers used in USLM. In this case, since the Beard Tax Act is Act 47 of 1934, the identifier for Part 1 Section 4 of the Act is '/au/act/1934/47/1/4'.\n",
    "\n",
    "The \"universal\" flag indicates whether the Rule is one that applies in every case where all of the inputs are present, or only in some cases. The default is False, but this Rule overrides that default and says it applies in every case where all of the inputs are present."
   ]
  },
  {
   "cell_type": "code",
   "execution_count": 2,
   "metadata": {},
   "outputs": [
    {
     "data": {
      "text/plain": [
       "{'inputs': [{'type': 'fact',\n",
       "   'content': '{the suspected beard} was facial hair'},\n",
       "  {'type': 'fact',\n",
       "   'content': 'the length of the suspected beard was >= 5 millimetres'},\n",
       "  {'type': 'fact',\n",
       "   'content': 'the suspected beard occurred on or below the chin'}],\n",
       " 'outputs': [{'type': 'fact',\n",
       "   'content': 'the suspected beard was a beard',\n",
       "   'name': 'the fact that the facial hair was a beard'}],\n",
       " 'enactments': [{'source': '/au/act/1934/47/1/4/chapeau'},\n",
       "  {'source': '/au/act/1934/47/1/4/a', 'suffix': ', or'}],\n",
       " 'universal': True}"
      ]
     },
     "execution_count": 2,
     "metadata": {},
     "output_type": "execute_result"
    }
   ],
   "source": [
    "beard_dictionary = loaders.load_holdings(\"beard_rules.json\")\n",
    "beard_dictionary[0]"
   ]
  },
  {
   "cell_type": "markdown",
   "metadata": {},
   "source": [
    "Now we can have AuthoritySpoke read this JSON and convert it to a list of Rule objects. In particular, we'll look at the first two Rules, which describe two ways that an object can be defined to be a \"beard\"."
   ]
  },
  {
   "cell_type": "code",
   "execution_count": 3,
   "metadata": {},
   "outputs": [
    {
     "name": "stdout",
     "output_type": "stream",
     "text": [
      "the Rule that the court MAY ALWAYS impose the\n",
      "  RESULT:\n",
      "    the Fact that <the suspected beard> was a beard\n",
      "  GIVEN:\n",
      "    the Fact that <the suspected beard> was facial hair\n",
      "    the Fact that the length of <the suspected beard> was at least 5\n",
      "    millimeter\n",
      "    the Fact that <the suspected beard> occurred on or below the chin\n",
      "  GIVEN the ENACTMENTS:\n",
      "    \"In this Act, beard means any facial hair no shorter than 5\n",
      "    millimetres in length that:\" (Australian Beard Tax (Promotion of\n",
      "    Enlightenment Values) Act 1934, /au/act/1934/47/1/4/chapeau)\n",
      "    \"occurs on or below the chin\" (Australian Beard Tax (Promotion of\n",
      "    Enlightenment Values) Act 1934, /au/act/1934/47/1/4/a)\n",
      "\n",
      "the Rule that the court MAY ALWAYS impose the\n",
      "  RESULT:\n",
      "    the Fact that <the suspected beard> was a beard\n",
      "  GIVEN:\n",
      "    the Fact that <the suspected beard> was facial hair\n",
      "    the Fact that the length of <the suspected beard> was at least 5\n",
      "    millimeter\n",
      "    the Fact that <the suspected beard> existed in an uninterrupted line\n",
      "    from the front of one ear to the front of the other ear below the nose\n",
      "  GIVEN the ENACTMENTS:\n",
      "    \"In this Act, beard means any facial hair no shorter than 5\n",
      "    millimetres in length that:\" (Australian Beard Tax (Promotion of\n",
      "    Enlightenment Values) Act 1934, /au/act/1934/47/1/4/chapeau)\n",
      "    \"exists in an uninterrupted line from the front of one ear to the\n",
      "    front of the other ear below the nose.\" (Australian Beard Tax\n",
      "    (Promotion of Enlightenment Values) Act 1934, /au/act/1934/47/1/4/b)\n"
     ]
    }
   ],
   "source": [
    "from authorityspoke.io import readers\n",
    "\n",
    "beard_rules = readers.read_rules(beard_dictionary, beard_act)\n",
    "print(beard_rules[0])\n",
    "print(\"\")\n",
    "print(beard_rules[1])"
   ]
  },
  {
   "cell_type": "markdown",
   "metadata": {},
   "source": [
    "The difference between these two Rules is that the first one applies to facial hair \"on or below the chin\" and the second applies to facial hair \"in an uninterrupted line from the front of one ear to the front of the other ear below the nose\". I'll rename them accordingly."
   ]
  },
  {
   "cell_type": "code",
   "execution_count": 4,
   "metadata": {},
   "outputs": [],
   "source": [
    "chin_rule = beard_rules[0]\n",
    "ear_rule = beard_rules[1]"
   ]
  },
  {
   "cell_type": "markdown",
   "metadata": {},
   "source": [
    "## Implication and Contradiction between Rules\n",
    "\n",
    "AuthoritySpoke doesn't yet have a feature that directly takes a set of known Facts, applies a Rule to them, and then infers legal conclusions. Instead, in its current iteration, AuthoritySpoke can be used to combine Rules together to make more Rules, or to check whether Rules imply or contradict one another. \n",
    "\n",
    "For instance, if we create a new Rule that's identical to the first Rule in the Beard Tax Act except that it applies to facial hair that's exactly 8 millimeters long instead of \"no shorter than 5 millimetres\", we can determine that the original \"chin rule\" implies our new Rule."
   ]
  },
  {
   "cell_type": "code",
   "execution_count": 5,
   "metadata": {},
   "outputs": [
    {
     "name": "stdout",
     "output_type": "stream",
     "text": [
      "the Rule that the court MAY ALWAYS impose the\n",
      "  RESULT:\n",
      "    the Fact that <the suspected beard> was a beard\n",
      "  GIVEN:\n",
      "    the Fact that <the suspected beard> was facial hair\n",
      "    the Fact that the length of <the suspected beard> was exactly equal to\n",
      "    8 millimeter\n",
      "    the Fact that <the suspected beard> occurred on or below the chin\n",
      "  GIVEN the ENACTMENTS:\n",
      "    \"In this Act, beard means any facial hair no shorter than 5\n",
      "    millimetres in length that:\" (Australian Beard Tax (Promotion of\n",
      "    Enlightenment Values) Act 1934, /au/act/1934/47/1/4/chapeau)\n",
      "    \"occurs on or below the chin\" (Australian Beard Tax (Promotion of\n",
      "    Enlightenment Values) Act 1934, /au/act/1934/47/1/4/a)\n"
     ]
    }
   ],
   "source": [
    "beard_dictionary[0]['inputs'][1]['content'] = 'the length of the suspected beard was = 8 millimetres'\n",
    "longer_hair_rule = readers.read_rule(beard_dictionary[0], beard_act)\n",
    "print(longer_hair_rule)"
   ]
  },
  {
   "cell_type": "code",
   "execution_count": 6,
   "metadata": {},
   "outputs": [
    {
     "data": {
      "text/plain": [
       "True"
      ]
     },
     "execution_count": 6,
     "metadata": {},
     "output_type": "execute_result"
    }
   ],
   "source": [
    "chin_rule.implies(longer_hair_rule)"
   ]
  },
  {
   "cell_type": "markdown",
   "metadata": {},
   "source": [
    "Similarly, we can create a new Rule that says facial hair is *never* a beard if its length is greater than 12 inches (we'll use inches instead of millimeters this time). And we can show that this new Rule contradicts a Rule that came from the Beard Tax Act."
   ]
  },
  {
   "cell_type": "code",
   "execution_count": 7,
   "metadata": {},
   "outputs": [
    {
     "name": "stdout",
     "output_type": "stream",
     "text": [
      "the Rule that the court MUST ALWAYS impose the\n",
      "  RESULT:\n",
      "    the Fact it is false that <the suspected beard> was a beard\n",
      "  GIVEN:\n",
      "    the Fact that the length of <the suspected beard> was at least 12 inch\n",
      "  DESPITE:\n",
      "    the Fact that <the suspected beard> was facial hair\n",
      "  GIVEN the ENACTMENTS:\n",
      "    \"In this Act, beard means any facial hair no shorter than 5\n",
      "    millimetres in length that:\" (Australian Beard Tax (Promotion of\n",
      "    Enlightenment Values) Act 1934, /au/act/1934/47/1/4/chapeau)\n",
      "    \"exists in an uninterrupted line from the front of one ear to the\n",
      "    front of the other ear below the nose.\" (Australian Beard Tax\n",
      "    (Promotion of Enlightenment Values) Act 1934, /au/act/1934/47/1/4/b)\n"
     ]
    }
   ],
   "source": [
    "beard_dictionary[1][\"despite\"] = beard_dictionary[1][\"inputs\"][0]\n",
    "beard_dictionary[1][\"inputs\"] = {\n",
    "    \"type\": \"fact\",\n",
    "    \"content\": \"the length of the suspected beard was >= 12 inches\",\n",
    "}\n",
    "beard_dictionary[1][\"outputs\"][0][\"truth\"] = False\n",
    "beard_dictionary[1][\"mandatory\"] = True\n",
    "long_thing_is_not_a_beard = readers.read_rule(beard_dictionary[1], beard_act)\n",
    "print(long_thing_is_not_a_beard)"
   ]
  },
  {
   "cell_type": "code",
   "execution_count": 8,
   "metadata": {},
   "outputs": [
    {
     "data": {
      "text/plain": [
       "True"
      ]
     },
     "execution_count": 8,
     "metadata": {},
     "output_type": "execute_result"
    }
   ],
   "source": [
    "long_thing_is_not_a_beard.contradicts(ear_rule)"
   ]
  },
  {
   "cell_type": "markdown",
   "metadata": {},
   "source": [
    "## Addition between Rules\n",
    "\n",
    "Finally, let's look at adding Rules. AuthoritySpoke currently only allows Rules to be added if applying the first Rule would supply you with all the input Factor you need to apply the second Rule as well. Here's an example.\n",
    "\n",
    "The Beard Tax Act defines the offense of \"improper transfer of beardcoin\". This offense basically has three elements:\n",
    "\n",
    "1. a transfer of beardcoin\n",
    "2. the absence of a license, and \n",
    "3. a counterparty who is not the Department of Beards.\n",
    "\n",
    "But in section 7A of the Beard Tax Act, we also learn specifically that a \"loan\" of the tokens called beardcoin counts as the kind of \"transfer\" that will support a conviction of the offense. We can represent this information as a separate Rule, and then add it to the Rule defining the offense. The result is that we discover an alternate way of establishing the offense:\n",
    "\n",
    "1. a loan of beardcoin\n",
    "2. the absence of a license, and \n",
    "3. a counterparty who is not the Department of Beards.\n",
    "\n",
    "Here are the two Rules we'll be adding together."
   ]
  },
  {
   "cell_type": "code",
   "execution_count": 9,
   "metadata": {},
   "outputs": [
    {
     "name": "stdout",
     "output_type": "stream",
     "text": [
      "the Rule that the court MUST ALWAYS impose the\n",
      "  RESULT:\n",
      "    the Fact that <the defendant> committed the offense of improper\n",
      "    transfer of beardcoin\n",
      "  GIVEN:\n",
      "    the Fact that <the beardcoin transaction> was a transfer of beardcoin\n",
      "    between <the defendant> and <the counterparty>\n",
      "    absence of the Fact that <the beardcoin transaction> was a licensed\n",
      "    beardcoin repurchase\n",
      "    the Fact it is false that <the counterparty> was <the Department of\n",
      "    Beards>\n",
      "  DESPITE:\n",
      "    the Fact that the token attributed to <the Department of Beards>,\n",
      "    asserting the fact that <the Department of Beards> granted an\n",
      "    exemption from the prohibition of wearing beards, was counterfeit\n",
      "  GIVEN the ENACTMENTS:\n",
      "    \"It shall be an offence to buy, sell, lend, lease, gift, transfer or\n",
      "    receive in any way a beardcoin from any person or body other than the\n",
      "    Department of Beards, except as provided in Part 4.\" (Australian Beard\n",
      "    Tax (Promotion of Enlightenment Values) Act 1934,\n",
      "    /au/act/1934/47/3/7A)\n",
      "    \"It shall be no defense to a charge under section 7A that the\n",
      "    purchase, sale, lease, gift, transfer or receipt was of counterfeit\n",
      "    beardcoin rather than genuine beardcoin.\" (Australian Beard Tax\n",
      "    (Promotion of Enlightenment Values) Act 1934, /au/act/1934/47/3/7B/2)\n",
      "  DESPITE the ENACTMENT:\n",
      "    \"The Department of Beards may issue licenses to such barbers,\n",
      "    hairdressers or other male grooming professionals as they see fit to\n",
      "    purchase a beardcoin from a customer whose beard they have removed,\n",
      "    and to resell those beardcoins to the Department of Beards\"\n",
      "    (Australian Beard Tax (Promotion of Enlightenment Values) Act 1934,\n",
      "    /au/act/1934/47/4/11)\n"
     ]
    }
   ],
   "source": [
    "elements_of_offense = beard_rules[11]\n",
    "print(elements_of_offense)"
   ]
  },
  {
   "cell_type": "code",
   "execution_count": 10,
   "metadata": {},
   "outputs": [
    {
     "name": "stdout",
     "output_type": "stream",
     "text": [
      "the Rule that the court MUST ALWAYS impose the\n",
      "  RESULT:\n",
      "    the Fact that <the beardcoin transaction> was a transfer of beardcoin\n",
      "    between <the defendant> and <the counterparty>\n",
      "  GIVEN:\n",
      "    the Fact that <the beardcoin transaction> was <the defendant>'s loan\n",
      "    of the token attributed to <the Department of Beards>, asserting the\n",
      "    fact that <the Department of Beards> granted an exemption from the\n",
      "    prohibition of wearing beards, to <the counterparty>\n",
      "  GIVEN the ENACTMENT:\n",
      "    \"It shall be an offence to buy, sell, lend, lease, gift, transfer or\n",
      "    receive in any way a beardcoin from any person or body other than the\n",
      "    Department of Beards, except as provided in Part 4.\" (Australian Beard\n",
      "    Tax (Promotion of Enlightenment Values) Act 1934,\n",
      "    /au/act/1934/47/3/7A)\n"
     ]
    }
   ],
   "source": [
    "loan_is_transfer = beard_rules[7]\n",
    "print(loan_is_transfer)"
   ]
  },
  {
   "cell_type": "markdown",
   "metadata": {},
   "source": [
    "But there's a problem. The `loan_is_transfer` Rule establishes only one of the elements of the offense. In order to create a Rule that we can add to `elements_of_offense`, we'll need to add Facts establishing the two elements other than the \"transfer\" element. We'll also need to add one of the Enactments that the `elements_of_offense` Rule relies upon."
   ]
  },
  {
   "cell_type": "code",
   "execution_count": 11,
   "metadata": {},
   "outputs": [
    {
     "name": "stdout",
     "output_type": "stream",
     "text": [
      "the Rule that the court MUST ALWAYS impose the\n",
      "  RESULT:\n",
      "    the Fact that <the beardcoin transaction> was a transfer of beardcoin\n",
      "    between <the defendant> and <the counterparty>\n",
      "  GIVEN:\n",
      "    the Fact that <the beardcoin transaction> was <the defendant>'s loan\n",
      "    of the token attributed to <the Department of Beards>, asserting the\n",
      "    fact that <the Department of Beards> granted an exemption from the\n",
      "    prohibition of wearing beards, to <the counterparty>\n",
      "    absence of the Fact that <the beardcoin transaction> was a licensed\n",
      "    beardcoin repurchase\n",
      "    the Fact it is false that <the counterparty> was <the Department of\n",
      "    Beards>\n",
      "  GIVEN the ENACTMENTS:\n",
      "    \"It shall be no defense to a charge under section 7A that the\n",
      "    purchase, sale, lease, gift, transfer or receipt was of counterfeit\n",
      "    beardcoin rather than genuine beardcoin.\" (Australian Beard Tax\n",
      "    (Promotion of Enlightenment Values) Act 1934, /au/act/1934/47/3/7B/2)\n",
      "    \"It shall be an offence to buy, sell, lend, lease, gift, transfer or\n",
      "    receive in any way a beardcoin from any person or body other than the\n",
      "    Department of Beards, except as provided in Part 4.\" (Australian Beard\n",
      "    Tax (Promotion of Enlightenment Values) Act 1934,\n",
      "    /au/act/1934/47/3/7A)\n"
     ]
    }
   ],
   "source": [
    "loan_without_exceptions = (\n",
    "            loan_is_transfer\n",
    "            + elements_of_offense.inputs[1]\n",
    "            + elements_of_offense.inputs[2]\n",
    "            + elements_of_offense.enactments[1]\n",
    "        )\n",
    "print(loan_without_exceptions)"
   ]
  },
  {
   "cell_type": "markdown",
   "metadata": {},
   "source": [
    "With these changes, we can add together two Rules to get a new one."
   ]
  },
  {
   "cell_type": "code",
   "execution_count": 12,
   "metadata": {},
   "outputs": [
    {
     "name": "stdout",
     "output_type": "stream",
     "text": [
      "the Rule that the court MUST ALWAYS impose the\n",
      "  RESULT:\n",
      "    the Fact that <the beardcoin transaction> was a transfer of beardcoin\n",
      "    between <the defendant> and <the counterparty>\n",
      "    the Fact that <the defendant> committed the offense of improper\n",
      "    transfer of beardcoin\n",
      "  GIVEN:\n",
      "    the Fact that <the beardcoin transaction> was <the defendant>'s loan\n",
      "    of the token attributed to <the Department of Beards>, asserting the\n",
      "    fact that <the Department of Beards> granted an exemption from the\n",
      "    prohibition of wearing beards, to <the counterparty>\n",
      "    absence of the Fact that <the beardcoin transaction> was a licensed\n",
      "    beardcoin repurchase\n",
      "    the Fact it is false that <the counterparty> was <the Department of\n",
      "    Beards>\n",
      "  GIVEN the ENACTMENTS:\n",
      "    \"It shall be no defense to a charge under section 7A that the\n",
      "    purchase, sale, lease, gift, transfer or receipt was of counterfeit\n",
      "    beardcoin rather than genuine beardcoin.\" (Australian Beard Tax\n",
      "    (Promotion of Enlightenment Values) Act 1934, /au/act/1934/47/3/7B/2)\n",
      "    \"It shall be an offence to buy, sell, lend, lease, gift, transfer or\n",
      "    receive in any way a beardcoin from any person or body other than the\n",
      "    Department of Beards, except as provided in Part 4.\" (Australian Beard\n",
      "    Tax (Promotion of Enlightenment Values) Act 1934,\n",
      "    /au/act/1934/47/3/7A)\n"
     ]
    }
   ],
   "source": [
    "loan_establishes_offense = loan_without_exceptions + elements_of_offense\n",
    "print(loan_establishes_offense)"
   ]
  },
  {
   "cell_type": "markdown",
   "metadata": {},
   "source": [
    "There will be additional methods for combining Rules in future versions of AuthoritySpoke.\n",
    "\n",
    "For now, try browsing through the beard_rules object to see how some of the other provisions have been formalized. In all, there are 14 Rules in the dataset."
   ]
  },
  {
   "cell_type": "code",
   "execution_count": 13,
   "metadata": {},
   "outputs": [
    {
     "data": {
      "text/plain": [
       "14"
      ]
     },
     "execution_count": 13,
     "metadata": {},
     "output_type": "execute_result"
    }
   ],
   "source": [
    "len(beard_rules)"
   ]
  },
  {
   "cell_type": "markdown",
   "metadata": {},
   "source": [
    "## Future Work\n",
    "\n",
    "The Beard Tax Act example still presents challenges that AuthoritySpoke hasn't yet met.\n",
    "Two capabilities that should be coming to AuthoritySpoke fairly soon are the ability to model remedies like the sentencing provisions in /au/act/1934/47/3/9, and commencement dates like the one in /au/act/1934/47/1/2.\n",
    "\n",
    "But consider how you would model these more challenging details:\n",
    "\n",
    "The \"purpose\" provisions in /au/act/1934/47/1/3 and /au/act/1934/47/4/10\n",
    "\n",
    "Provisions delegating regulatory power, like /au/act/1934/47/2A/6B and /au/act/1934/47/4/12\n",
    "\n",
    "Provisions delegating permission to take administrative actions, like /au/act/1934/47/2/6/1\n",
    "\n",
    "Provisions delegating administrative responsibilities, like /au/act/1934/47/2A/6D/1 and /au/act/1934/47/3/8/1\n",
    "\n",
    "Provisions delegating fact-finding power, like /au/act/1934/47/2A/6D/2\n",
    "\n",
    "Clauses limiting the effect of particular provisions to a certain statutory scope, like the words \"In this Act,\" in /au/act/1934/47/1/4\n",
    "\n",
    "### Contact\n",
    "If you have questions, comments, or ideas, please feel welcome to get in touch via Twitter at [@AuthoritySpoke](https://twitter.com/AuthoritySpoke) or [@mcareyaus](https://twitter.com/mcareyaus), or via the [AuthoritySpoke Github repo](https://github.com/mscarey/AuthoritySpoke)."
   ]
  }
 ],
 "metadata": {
  "kernelspec": {
   "display_name": "Python 3",
   "language": "python",
   "name": "python3"
  },
  "language_info": {
   "codemirror_mode": {
    "name": "ipython",
    "version": 3
   },
   "file_extension": ".py",
   "mimetype": "text/x-python",
   "name": "python",
   "nbconvert_exporter": "python",
   "pygments_lexer": "ipython3",
   "version": "3.7.5"
  }
 },
 "nbformat": 4,
 "nbformat_minor": 4
}
