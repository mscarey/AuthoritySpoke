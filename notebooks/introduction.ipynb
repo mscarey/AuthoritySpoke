{
 "cells": [
  {
   "cell_type": "markdown",
   "metadata": {},
   "source": [
    "# Legal Rules as Data: An Introduction to AuthoritySpoke\n",
    "\n",
    "> \"Details, unnumbered, shifting, sharp, disordered, unchartable, jagged.\"\n",
    ">\n",
    "> Karl N. Llewellyn, The Bramble Bush: On Our Law and Its Study (1930).\n",
    "    \n",
    "AuthoritySpoke is a Python package that will help you make legal authority readable by computers.\n",
    "\n",
    "This notebook will provide an overview of AuthoritySpoke's most important features. AuthoritySpoke is still in an alpha state, so many features have yet to be implemented, and some others still have limited functionality.\n",
    "\n",
    "AuthoritySpoke is open source software (as well as [Ethical Source](https://ethicalsource.dev/definition/) software). That mean you have the opportunity to reuse AuthoritySpoke in your own projects. You can also [participate in its development](https://github.com/mscarey/AuthoritySpoke) by submitting issues, bug reports, and pull requests."
   ]
  },
  {
   "cell_type": "markdown",
   "metadata": {},
   "source": [
    "## 0. Getting Example Data\n",
    "\n",
    "AuthoritySpoke helps you work with three kinds of data: court opinions, legislative enactments, and structured annotations of legal procedural rules.\n",
    "\n",
    "To help you obtain court opinions, AuthoritySpoke provides an interface to the [Caselaw Access Project](https://case.law/) API, a project of the Harvard Law School Library Innovation Lab. You'll need to [register for an API key](https://case.law/user/register/).\n",
    "\n",
    "To provide you with legislation text, AuthoritySpoke imports the [Legislice](https://pypi.org/project/legislice/) Python package, which provides an interface to the Legislice API at [authorityspoke.com](https://authorityspoke.com/). This API currently provides access to recent versions of the United States Code, plus the United States Constitution. You'll need to [sign up](https://authorityspoke.com/account/signup/) for an account and then obtain a Legislice API key from your account page. The Legislice API key is not the same as the Caselaw Access Project API key.\n",
    "\n",
    "As of version 0.4, you mostly have to create your own procedural rule annotations, but the `example_data` folder of the [GitHub repository for AuthoritySpoke](https://github.com/mscarey/AuthoritySpoke) contains example annotations for several cases. The rest of this tutorial depends on having access to the `example_data` folder, so if you're running the tutorial code interactively, you'll need to either clone the AuthoritySpoke repository to your computer and run the tutorial from there, or else run the tutorial from a cloud environment like [Binder](https://mybinder.org/v2/gh/mscarey/AuthoritySpoke/master). If you've only installed AuthoritySpoke from `pip`, you won't have access to the example data files."
   ]
  },
  {
   "cell_type": "markdown",
   "metadata": {},
   "source": [
    "## 1. Importing the Package\n",
    "\n",
    "If you want to use AuthoritySpoke in your own Python environment, be sure you have installed AuthoritySpoke using a command like `pip install AuthoritySpoke` on the command line. Visit [the Python Package Index](https://pypi.org/project/AuthoritySpoke/) for more details.\n",
    "\n",
    "With a Python environment activated, let's import AuthoritySpoke by running the cell below. If you're running this code on your own machine but you don't want to obtain API keys or make real API calls over the Internet, you can change the two `True` variables to `False` to usefake versions of the APIs. The notebook will try to find the data for the fake APIs in the `example_data` folder alongside a `notebooks` folder where this notebook is running."
   ]
  },
  {
   "cell_type": "code",
   "execution_count": 1,
   "metadata": {},
   "outputs": [],
   "source": [
    "import authorityspoke\n",
    "\n",
    "USE_REAL_CASE_API = False\n",
    "USE_REAL_LEGISLICE_API = False"
   ]
  },
  {
   "cell_type": "markdown",
   "metadata": {},
   "source": [
    "If you executed that cell with no error messages, then it worked! \n",
    "\n",
    "If you got a message like `No module named 'authorityspoke'`, then AuthoritySpoke is probably not installed in your current Python environment. In that case, check the [Python documentation](https://docs.python.org/3/installing/index.html) for help on installing modules."
   ]
  },
  {
   "cell_type": "markdown",
   "metadata": {},
   "source": [
    "### 1.1 Optional: Skip the Downloads and Load Decisions from a File"
   ]
  },
  {
   "cell_type": "markdown",
   "metadata": {},
   "source": [
    "To use the cell below to access `Decision` objects from a file rather than an API, be sure the `USE_REAL_CASE_API` variable is set to `False`. This should work if you're running the tutorial in a notebook in a cloud environment like Binder, or if you've cloned AuthoritySpoke's GitHub repository to your hard drive and you're using `jupyter` to run the tutorial in from the `notebooks` folder of the repository."
   ]
  },
  {
   "cell_type": "code",
   "execution_count": 2,
   "metadata": {},
   "outputs": [],
   "source": [
    "from authorityspoke.io.loaders import load_decision\n",
    "from authorityspoke.io.readers import read_decision\n",
    "\n",
    "if not USE_REAL_CASE_API:\n",
    "\n",
    "    oracle_download = load_decision(\"oracle_h.json\")\n",
    "    lotus_download = load_decision(\"lotus_h.json\")"
   ]
  },
  {
   "cell_type": "markdown",
   "metadata": {},
   "source": [
    "## 2. Downloading and Importing Decisions\n",
    "\n",
    "If you didn't load court opinions from the GitHub repository as described in section 1.1, then you'll be using the Caselaw Access Project (CAP) API to get court opinions to load into AuthoritySpoke. To download full cases from CAP, you'll need to [register for a CAP API key](https://case.law/user/register/)."
   ]
  },
  {
   "cell_type": "markdown",
   "metadata": {},
   "source": [
    "One good way to use an API key in a Jupyter Notebook or other Python working file is to save the API key in a file called `.env`. The `.env` file should contain a line that looks like `CAP_API_KEY=your-api-key-here`. Then you can use the `dotenv` Python package to load the API key as an environment variable without ever writing the API key in the notebook. That makes it easier to keep your API key secret, even if you publish your copy of the notebook and make it visible on the internet.\n",
    "\n",
    "However, if you're viewing this tutorial in a cloud environment like Binder, you probably won't be able to create an environment variable. Instead, you could replace `os.getenv('CAP_API_KEY')` with a string containing your own API key."
   ]
  },
  {
   "cell_type": "code",
   "execution_count": 3,
   "metadata": {},
   "outputs": [],
   "source": [
    "import os\n",
    "from dotenv import load_dotenv\n",
    "load_dotenv()\n",
    "\n",
    "CAP_API_KEY = os.getenv('CAP_API_KEY')"
   ]
  },
  {
   "cell_type": "markdown",
   "metadata": {},
   "source": [
    "Next we need to download some cases for analysis. \n",
    "\n",
    "The CAP API limits users to downloading 500 full cases per day. If you accidentally make a query that returns hundreds of full cases, you could hit your limit before you know it. You should first try out your API queries without the `\"full_case\": \"true\"` parameter, and then only request full cases once you're confident you'll receive what you expect.\n",
    "\n",
    "Let's download Oracle America v. Google, 750 F.3d 1339 (2014), a landmark opinion in which the Federal Circuit Court of Appeals held that the interface of the Java language was copyrightable. And since we'll want to compare the Oracle case to a related case, let's also download Lotus Development Corporation v. Borland International, 49 F.3d 807 (1995). In that case, the First Circuit Court of Appeals held that the menu structure of a spreadsheet program called Lotus 1-2-3 was uncopyrightable because it was a \"method of operation\" under the Copyright Act. As we'll see, the Oracle case discusses and disagrees with the Lotus case.\n",
    "\n",
    "If you already loaded `Opinion`s from a file, running the cells below with `USE_REAL_CASE_API` set to True will attempt to overwrite them with data from the API. You should be able to run the rest of the tutorial code either way."
   ]
  },
  {
   "cell_type": "code",
   "execution_count": 4,
   "metadata": {},
   "outputs": [],
   "source": [
    "from authorityspoke.io.downloads import download_case\n",
    "from authorityspoke.io.loaders import load_and_read_decision\n",
    "\n",
    "if USE_REAL_CASE_API:\n",
    "    oracle_download = download_case(cite=\"750 F.3d 1339\")"
   ]
  },
  {
   "cell_type": "markdown",
   "metadata": {},
   "source": [
    "Now we have a record representing the _Oracle_ case, which can also be found in the \"example_data/opinions\" folder under the filename \"oracle_h.json\". Let's look at a field from the API response."
   ]
  },
  {
   "cell_type": "code",
   "execution_count": 5,
   "metadata": {},
   "outputs": [
    {
     "data": {
      "text/plain": [
       "'ORACLE AMERICA, INC., Plaintiff-Appellant, v. GOOGLE INC., Defendant-Cross-Appellant'"
      ]
     },
     "execution_count": 5,
     "metadata": {},
     "output_type": "execute_result"
    }
   ],
   "source": [
    "oracle_download[\"name\"]"
   ]
  },
  {
   "cell_type": "markdown",
   "metadata": {},
   "source": [
    "Yes, this is the correct case name. But if we had provided the API key and used the `full_case` flag, we could have received more information, like whether there are any non-majority opinions in the case, and the names of the opinion authors. So let's request the _Oracle_ case with `full_case=True`."
   ]
  },
  {
   "cell_type": "code",
   "execution_count": 6,
   "metadata": {},
   "outputs": [],
   "source": [
    "if USE_REAL_CASE_API:\n",
    "    oracle_download = download_case(\n",
    "    cite=\"750 F.3d 1339\", \n",
    "    full_case=True, \n",
    "    api_key=CAP_API_KEY)"
   ]
  },
  {
   "cell_type": "markdown",
   "metadata": {},
   "source": [
    "And then do the same for the _Lotus_ case."
   ]
  },
  {
   "cell_type": "code",
   "execution_count": 7,
   "metadata": {},
   "outputs": [],
   "source": [
    "if USE_REAL_CASE_API:\n",
    "    lotus_download = download_case(\n",
    "    cite=\"49 F.3d 807\", \n",
    "    full_case=True, \n",
    "    api_key=CAP_API_KEY)"
   ]
  },
  {
   "cell_type": "markdown",
   "metadata": {},
   "source": [
    "Now let's convert the _Oracle_ API response to an AuthoritySpoke object."
   ]
  },
  {
   "cell_type": "code",
   "execution_count": 8,
   "metadata": {},
   "outputs": [],
   "source": [
    "from authorityspoke.io.readers import read_decision\n",
    "\n",
    "oracle = read_decision(oracle_download)"
   ]
  },
  {
   "cell_type": "markdown",
   "metadata": {},
   "source": [
    "And take a look at the object we made."
   ]
  },
  {
   "cell_type": "code",
   "execution_count": 9,
   "metadata": {},
   "outputs": [
    {
     "name": "stdout",
     "output_type": "stream",
     "text": [
      "Oracle America, Inc. v. Google Inc., 750 F.3d 1339 (2014-05-09)\n"
     ]
    }
   ],
   "source": [
    "print(oracle)"
   ]
  },
  {
   "cell_type": "code",
   "execution_count": 10,
   "metadata": {},
   "outputs": [
    {
     "name": "stdout",
     "output_type": "stream",
     "text": [
      "Lotus Development Corp. v. Borland International, Inc., 49 F.3d 807 (1995-03-09)\n"
     ]
    }
   ],
   "source": [
    "lotus = read_decision(lotus_download)\n",
    "print(lotus)"
   ]
  },
  {
   "cell_type": "markdown",
   "metadata": {},
   "source": [
    "One judicial `Decision` can include multiple `Opinion`s. The Lotus `Decision` has a concurring opinion as well as a majority opinion. Access the `majority` attribute of the `Decision` object to get the majority opinion."
   ]
  },
  {
   "cell_type": "code",
   "execution_count": 11,
   "metadata": {},
   "outputs": [
    {
     "name": "stdout",
     "output_type": "stream",
     "text": [
      "majority Opinion by STAHL, Circuit Judge.\n"
     ]
    }
   ],
   "source": [
    "print(lotus.majority)"
   ]
  },
  {
   "cell_type": "markdown",
   "metadata": {},
   "source": [
    "## 3. Downloading Enactments"
   ]
  },
  {
   "cell_type": "markdown",
   "metadata": {},
   "source": [
    "The interface for downloading legislation is a little different. First you create a Client class that holds your API key. Then you can use the `Client.fetch` method to fetch JSON representing the provision at a specified citation on a specified date (or the most recent version, if you don't specify a date). Or you can use `Client.read`, which also fetches the JSON but then loads it into an instance of the `Enactment` class."
   ]
  },
  {
   "cell_type": "code",
   "execution_count": 12,
   "metadata": {},
   "outputs": [],
   "source": [
    "import json\n",
    "\n",
    "from authorityspoke.io.readers import Client\n",
    "from authorityspoke.io.fake_clients import FakeClient\n",
    "\n",
    "if USE_REAL_LEGISLICE_API:\n",
    "    \n",
    "    LEGISLICE_API_TOKEN = os.getenv(\"LEGISLICE_API_TOKEN\")\n",
    "    legis_client = Client(api_token=LEGISLICE_API_TOKEN)\n",
    "\n",
    "else:\n",
    "    legis_client = FakeClient.from_file(\"usc.json\")"
   ]
  },
  {
   "cell_type": "markdown",
   "metadata": {},
   "source": [
    "## 4. Importing and Exporting Legal Holdings"
   ]
  },
  {
   "cell_type": "markdown",
   "metadata": {},
   "source": [
    "Now we can link some legal analysis to each majority `Opinion` by using `Decision.posit` or `Opinion.posit`. The parameter we pass to this function is a `Holding` or list of `Holding`s posited by the `Opinion`. You can think of a `Holding` as a statement about whether a `Rule` is or is not valid law. A `Holding` may exist in the abstract, or it may be **posited** by one or more `Opinion`s, which means that the `Opinion` adopts the `Holding` as its own. An `Opinion` may posit more than one `Holding`.\n",
    "\n",
    "Sadly, the labor of creating data about `Holding`s falls mainly to the user rather than the computer, at least in this early version of AuthoritySpoke. AuthoritySpoke loads `Holding`s from structured descriptions that need to be created outside of AuthoritySpoke as JSON files.  For more information on creating these JSON files, see the [guide to creating Holding data](https://authorityspoke.readthedocs.io/en/latest/guides/create_holding_data.html). The guide includes a [JSON specification](https://authorityspoke.readthedocs.io/en/latest/guides/create_holding_data.html#json-api-specification) describing the required data format.\n",
    "\n",
    "For now, this introduction will rely on example JSON files that have already been created. AuthoritySpoke should find them and convert them to AuthoritySpoke objects when we call the `load_and_read_holdings` function. If you pass in a `client` parameter, AuthoritySpoke will make calls to the API at [authorityspoke.com](https://authorityspoke.com/) to find and link the statutes or other `Enactment`s cited in the `Holding`.\n"
   ]
  },
  {
   "cell_type": "code",
   "execution_count": 13,
   "metadata": {
    "scrolled": true
   },
   "outputs": [
    {
     "name": "stdout",
     "output_type": "stream",
     "text": [
      "the Holding to ACCEPT\n",
      "  the Rule that the court MUST SOMETIMES impose the\n",
      "    RESULT:\n",
      "      the Fact it is false that <the Java API> was copyrightable\n",
      "    GIVEN:\n",
      "      the Fact it is false that <the Java API> was an original work\n",
      "    GIVEN the ENACTMENT:\n",
      "      \"Copyright protection subsists, in accordance with this title, in original works of authorship fixed in any tangible medium of expression, now known or later developed, from which they can be perceived, reproduced, or otherwise communicated, either directly or with the aid of a machine or device.…\" (/us/usc/t17/s102/a 2013-07-18)\n"
     ]
    }
   ],
   "source": [
    "from authorityspoke.io.loaders import load_and_read_holdings\n",
    "\n",
    "oracle_holdings = load_and_read_holdings(\"holding_oracle.json\", client=legis_client)\n",
    "print(oracle_holdings[0])"
   ]
  },
  {
   "cell_type": "markdown",
   "metadata": {},
   "source": [
    "You can also convert Holdings back to JSON, or to a Python dictionary, using the ``dump`` module."
   ]
  },
  {
   "cell_type": "code",
   "execution_count": 14,
   "metadata": {},
   "outputs": [
    {
     "data": {
      "text/plain": [
       "{'inputs': [{'predicate': {'comparison': '',\n",
       "    'content': '{} was an original work',\n",
       "    'quantity': None,\n",
       "    'reciprocal': False,\n",
       "    'truth': False},\n",
       "   'name': 'false the Java API was an original work',\n",
       "   'generic': False,\n",
       "   'standard_of_proof': None,\n",
       "   'anchors': [OrderedDict([('exact', 'a work must be “original”'),\n",
       "                 ('prefix', ''),\n",
       "                 ('suffix', '')])],\n",
       "   'context_factors': [{'name': 'the Java API',\n",
       "     'anchors': [],\n",
       "     'plural': False,\n",
       "     'generic': True,\n",
       "     'type': 'Entity'}],\n",
       "   'absent': False,\n",
       "   'type': 'Fact'}],\n",
       " 'outputs': [{'predicate': {'comparison': '',\n",
       "    'content': '{} was copyrightable',\n",
       "    'quantity': None,\n",
       "    'reciprocal': False,\n",
       "    'truth': False},\n",
       "   'name': 'false the Java API was copyrightable',\n",
       "   'generic': False,\n",
       "   'standard_of_proof': None,\n",
       "   'anchors': [OrderedDict([('exact', 'copyright protection.'),\n",
       "                 ('prefix', 'must be “original” to qualify for '),\n",
       "                 ('suffix', '')]),\n",
       "    OrderedDict([('exact',\n",
       "                  'whether the non-literal elements of a program “are protected'),\n",
       "                 ('prefix', ''),\n",
       "                 ('suffix', '')])],\n",
       "   'context_factors': [{'name': 'the Java API',\n",
       "     'anchors': [],\n",
       "     'plural': False,\n",
       "     'generic': True,\n",
       "     'type': 'Entity'}],\n",
       "   'absent': False,\n",
       "   'type': 'Fact'}],\n",
       " 'despite': []}"
      ]
     },
     "execution_count": 14,
     "metadata": {},
     "output_type": "execute_result"
    }
   ],
   "source": [
    "from authorityspoke.io.dump import to_json, to_dict\n",
    "\n",
    "to_dict(oracle_holdings[0])[\"rule\"][\"procedure\"]"
   ]
  },
  {
   "cell_type": "markdown",
   "metadata": {},
   "source": [
    "## 5. Linking Holdings to Opinions"
   ]
  },
  {
   "cell_type": "markdown",
   "metadata": {},
   "source": [
    "If you want annotation anchors to link each Holding to a passage in the Opinion, you can use the ``load_holdings_with_anchors`` method. The result is type of NamedTuple called `AnchoredHoldings`. You can pass this NamedTuple as the only argument to the `Opinion.posit()` method to assign the `Holding`s to the majority `Opinion`. This will also link the correct text passages from the Opinion to each Holding."
   ]
  },
  {
   "cell_type": "code",
   "execution_count": 15,
   "metadata": {},
   "outputs": [],
   "source": [
    "from authorityspoke.io.loaders import load_holdings_with_anchors\n",
    "\n",
    "oracle_holdings_with_anchors = load_holdings_with_anchors(\"holding_oracle.json\", client=legis_client)\n",
    "lotus_holdings_with_anchors = load_holdings_with_anchors(\"holding_lotus.json\", client=legis_client)\n",
    "\n",
    "oracle.posit(oracle_holdings_with_anchors)\n",
    "lotus.posit(lotus_holdings_with_anchors)"
   ]
  },
  {
   "cell_type": "markdown",
   "metadata": {},
   "source": [
    "You can pass either one Holding or a list of Holdings to `Opinion.posit()`. The `Opinion.posit()` method also has a `text_links` parameter that takes a dict indicating what text spans in the Opinion should be linked to which Holding."
   ]
  },
  {
   "cell_type": "markdown",
   "metadata": {},
   "source": [
    "## 6. Viewing an Opinion's Holdings"
   ]
  },
  {
   "cell_type": "markdown",
   "metadata": {},
   "source": [
    "If you take a look in [holding_oracle.json](https://github.com/mscarey/AuthoritySpoke/blob/master/example_data/holdings/holding_oracle.json) in AuthoritySpoke's git repository, you'll see that it's a list of 20 holdings. (You can verify this by checking how many times the string \"inputs\" appears in the file.)\n",
    "\n",
    "Let's make sure that the .posit() method linked all of those holdings to our `oracle` Opinion object."
   ]
  },
  {
   "cell_type": "code",
   "execution_count": 16,
   "metadata": {},
   "outputs": [
    {
     "data": {
      "text/plain": [
       "20"
      ]
     },
     "execution_count": 16,
     "metadata": {},
     "output_type": "execute_result"
    }
   ],
   "source": [
    "len(oracle.holdings)"
   ]
  },
  {
   "cell_type": "markdown",
   "metadata": {},
   "source": [
    "Now let's see the string representation of the AuthoritySpoke Holding object we created from the structured JSON we saw above."
   ]
  },
  {
   "cell_type": "code",
   "execution_count": 17,
   "metadata": {},
   "outputs": [
    {
     "name": "stdout",
     "output_type": "stream",
     "text": [
      "the Holding to ACCEPT\n",
      "  the Rule that the court MUST SOMETIMES impose the\n",
      "    RESULT:\n",
      "      the Fact it is false that <the Java API> was copyrightable\n",
      "    GIVEN:\n",
      "      the Fact it is false that <the Java API> was an original work\n",
      "    GIVEN the ENACTMENT:\n",
      "      \"Copyright protection subsists, in accordance with this title, in original works of authorship fixed in any tangible medium of expression, now known or later developed, from which they can be perceived, reproduced, or otherwise communicated, either directly or with the aid of a machine or device.…\" (/us/usc/t17/s102/a 2013-07-18)\n"
     ]
    }
   ],
   "source": [
    "print(oracle.holdings[0])"
   ]
  },
  {
   "cell_type": "markdown",
   "metadata": {},
   "source": [
    "Instead of the terms \"inputs\" and \"outputs\" we saw in the JSON file, we now have \"GIVEN\" and \"RESULT\". And the \"RESULT\" comes first, because it's hard to understand anything else about a legal rule until you understand what it does. Also, notice the separate heading \"GIVEN the ENACTMENT\". This indicates that the existence of statutory text (or another kind of enactment such as a constitution) can also be a precondition for a `Rule` to apply. So the two preconditions that must be present to apply this `Rule` are \"the Fact it is false that the Java API was an original work\" and the statutory text creating copyright protection.\n",
    "\n",
    "It's also important to notice that a `Rule` can be purely hypothetical from the point of view of the Opinion that posits it. In this case, the court finds that there would be a certain legal significance if it was \"GIVEN\" that `it is false that <the Java API> was an original work`, but the court isn't going to find that precondition applies, so it's also not going to accept the \"RESULT\" that `it is false that <the Java API> was copyrightable`."
   ]
  },
  {
   "cell_type": "markdown",
   "metadata": {},
   "source": [
    "We can also access just the inputs of a `Holding`, just the `Enactment`s, etc."
   ]
  },
  {
   "cell_type": "code",
   "execution_count": 18,
   "metadata": {},
   "outputs": [
    {
     "name": "stdout",
     "output_type": "stream",
     "text": [
      "the Fact it is false that <the Java API> was an original work\n"
     ]
    }
   ],
   "source": [
    "print(oracle.holdings[0].inputs[0])"
   ]
  },
  {
   "cell_type": "code",
   "execution_count": 19,
   "metadata": {},
   "outputs": [
    {
     "name": "stdout",
     "output_type": "stream",
     "text": [
      "\"Copyright protection subsists, in accordance with this title, in original works of authorship fixed in any tangible medium of expression, now known or later developed, from which they can be perceived, reproduced, or otherwise communicated, either directly or with the aid of a machine or device.…\" (/us/usc/t17/s102/a 2013-07-18)\n"
     ]
    }
   ],
   "source": [
    "print(oracle.holdings[0].enactments[0])"
   ]
  },
  {
   "cell_type": "markdown",
   "metadata": {},
   "source": [
    "## 7. Generic Factors\n",
    "\n",
    "The two instances of the phrase \"the Java API\" are in angle brackets to indicate that the Java API is a generic `Entity` mentioned in the `Fact`."
   ]
  },
  {
   "cell_type": "code",
   "execution_count": 20,
   "metadata": {},
   "outputs": [
    {
     "data": {
      "text/plain": [
       "[Entity(name='the Java API', generic=True, plural=False, anchors=[])]"
      ]
     },
     "execution_count": 20,
     "metadata": {},
     "output_type": "execute_result"
    }
   ],
   "source": [
    "oracle.holdings[0].generic_factors"
   ]
  },
  {
   "cell_type": "markdown",
   "metadata": {},
   "source": [
    "A generic `Entity` is \"generic\" in the sense that in the context of the `Factor` where the `Entity` appears, it could be replaced with some other generic `Entity` without changing the meaning of the `Factor` or the `Rule` where it appears.\n",
    "\n",
    "Let's illustrate this idea with the first `Holding` from the _Lotus_ case."
   ]
  },
  {
   "cell_type": "code",
   "execution_count": 21,
   "metadata": {},
   "outputs": [
    {
     "name": "stdout",
     "output_type": "stream",
     "text": [
      "the Holding to ACCEPT that the EXCLUSIVE way to reach the fact that\n",
      "<Borland International> infringed the copyright in <the Lotus menu\n",
      "command hierarchy> is\n",
      "  the Rule that the court MAY SOMETIMES impose the\n",
      "    RESULT:\n",
      "      the Fact that <Borland International> infringed the copyright in <the\n",
      "      Lotus menu command hierarchy>\n",
      "    GIVEN:\n",
      "      the Fact that <the Lotus menu command hierarchy> was copyrightable\n",
      "      the Fact that <Borland International> copied constituent elements of\n",
      "      <the Lotus menu command hierarchy> that were original\n",
      "    GIVEN the ENACTMENT:\n",
      "      \"Copyright protection subsists, in accordance with this title, in original works of authorship fixed in any tangible medium of expression, now known or later developed, from which they can be perceived, reproduced, or otherwise communicated, either directly or with the aid of a machine or device.…\" (/us/usc/t17/s102/a 2013-07-18)\n"
     ]
    }
   ],
   "source": [
    "print(lotus.holdings[0])"
   ]
  },
  {
   "cell_type": "markdown",
   "metadata": {},
   "source": [
    "What if we wanted to generalize this `Holding` about copyright and apply it in a different context, such as a case about books or television shows instead of computer programs? First we could look at the \"generic\" `Factor`s of the `Holding`, which were marked off in angle brackets in the string representation of the `Holding`."
   ]
  },
  {
   "cell_type": "code",
   "execution_count": 22,
   "metadata": {},
   "outputs": [
    {
     "data": {
      "text/plain": [
       "[Entity(name='Borland International', generic=True, plural=False, anchors=[]),\n",
       " Entity(name='the Lotus menu command hierarchy', generic=True, plural=False, anchors=[])]"
      ]
     },
     "execution_count": 22,
     "metadata": {},
     "output_type": "execute_result"
    }
   ],
   "source": [
    "lotus.holdings[0].generic_factors"
   ]
  },
  {
   "cell_type": "markdown",
   "metadata": {},
   "source": [
    "The same `Rule`s and `Holding`s may be relevant to more than one `Opinion`. Let's try applying the idea from `lotus.holdings[0]` to a different copyright case that's also about a derivative work. In [_Castle Rock Entertainment, Inc. v. Carol Publishing Group Inc._](https://en.wikipedia.org/wiki/Castle_Rock_Entertainment,_Inc._v._Carol_Publishing_Group_Inc.) (1998), a United States Court of Appeals found that a publisher infringed the copyright in the sitcom _Seinfeld_ by publishing a trivia book called _SAT: The Seinfeld Aptitude Test_.\n",
    "\n",
    "Maybe we'd like to see how the `Holding` from the _Lotus_ case could have applied in the context of the _Castle Rock Entertainment_ case, under 17 USC 102. We can check that by using the `Holding.new_context()` method to replace the generic factors from the _Lotus_ `Holding`. One way to do this is by passing a tuple containing a list of factors that need to be replaced, followed by a list of their replacements. "
   ]
  },
  {
   "cell_type": "code",
   "execution_count": 23,
   "metadata": {},
   "outputs": [],
   "source": [
    "from authorityspoke import Entity\n",
    "\n",
    "seinfeld_holding = lotus.holdings[0].new_context(\n",
    "    (\n",
    "        [\n",
    "            Entity(\"Borland International\"),\n",
    "            Entity(\"the Lotus menu command hierarchy\"),\n",
    "        ],\n",
    "        [Entity(\"Carol Publishing Group\"), Entity(\"Seinfeld\")],\n",
    "    ),\n",
    ")"
   ]
  },
  {
   "cell_type": "markdown",
   "metadata": {},
   "source": [
    "The `new_context` method returns a new `Holding` object, which we've assigned to the name `seinfeld_holding`, but the `Holding` that we used as a basis for the new object also still exists, and it's unchanged."
   ]
  },
  {
   "cell_type": "code",
   "execution_count": 24,
   "metadata": {},
   "outputs": [
    {
     "name": "stdout",
     "output_type": "stream",
     "text": [
      "the Holding to ACCEPT\n",
      "  the Rule that the court MAY SOMETIMES impose the\n",
      "    RESULT:\n",
      "      the Fact that <Carol Publishing Group> infringed the copyright in\n",
      "      <Seinfeld>\n",
      "    GIVEN:\n",
      "      the Fact that <Seinfeld> was copyrightable\n",
      "      the Fact that <Carol Publishing Group> copied constituent elements of\n",
      "      <Seinfeld> that were original\n",
      "    GIVEN the ENACTMENT:\n",
      "      \"Copyright protection subsists, in accordance with this title, in original works of authorship fixed in any tangible medium of expression, now known or later developed, from which they can be perceived, reproduced, or otherwise communicated, either directly or with the aid of a machine or device.…\" (/us/usc/t17/s102/a 2013-07-18)\n"
     ]
    }
   ],
   "source": [
    "print(seinfeld_holding)"
   ]
  },
  {
   "cell_type": "markdown",
   "metadata": {},
   "source": [
    "Even though these `Holding`s have different generic factors and don't evaluate equal to one another, the `Holding.means()` method shows that they have the same meaning. In other words, they both endorse exactly the same legal Rule. If Holding A `means` Holding B, then Holding A also necessarily `implies` Holding B."
   ]
  },
  {
   "cell_type": "code",
   "execution_count": 25,
   "metadata": {},
   "outputs": [
    {
     "data": {
      "text/plain": [
       "False"
      ]
     },
     "execution_count": 25,
     "metadata": {},
     "output_type": "execute_result"
    }
   ],
   "source": [
    "lotus.holdings[0] == seinfeld_holding"
   ]
  },
  {
   "cell_type": "code",
   "execution_count": 26,
   "metadata": {},
   "outputs": [
    {
     "data": {
      "text/plain": [
       "True"
      ]
     },
     "execution_count": 26,
     "metadata": {},
     "output_type": "execute_result"
    }
   ],
   "source": [
    "lotus.holdings[0].means(seinfeld_holding)"
   ]
  },
  {
   "cell_type": "markdown",
   "metadata": {},
   "source": [
    "## 8. Enactment Objects and Implication"
   ]
  },
  {
   "cell_type": "markdown",
   "metadata": {},
   "source": [
    "Sometimes it's useful to know whether one `Rule` or `Holding` implies another. Basically, one legal `Holding` implies a second `Holding` if its meaning entirely includes the meaning of the second `Holding`. To illustrate this idea, let's look at the `Enactment` that needs to be present to trigger the `Holding` at `oracle.holdings[0]`."
   ]
  },
  {
   "cell_type": "code",
   "execution_count": 27,
   "metadata": {},
   "outputs": [
    {
     "name": "stdout",
     "output_type": "stream",
     "text": [
      "\"Copyright protection subsists, in accordance with this title, in original works of authorship fixed in any tangible medium of expression, now known or later developed, from which they can be perceived, reproduced, or otherwise communicated, either directly or with the aid of a machine or device.…\" (/us/usc/t17/s102/a 2013-07-18)\n"
     ]
    }
   ],
   "source": [
    "copyright_provision = oracle.holdings[0].enactments[0]\n",
    "print(copyright_provision)"
   ]
  },
  {
   "cell_type": "markdown",
   "metadata": {},
   "source": [
    "The `Enactment` object refers to part of the text of subsection 102(a) from [Title 17 of the United States Code](https://www.copyright.gov/title17/)."
   ]
  },
  {
   "cell_type": "markdown",
   "metadata": {},
   "source": [
    "Next, let's create a new `Enactment` object representing a shorter passage of text from the same provision. We select some text from the provision by calling the `select` method with the string `works_of_authorship_passage`, which exactly matches some text that can be found in subsection 102(a)."
   ]
  },
  {
   "cell_type": "code",
   "execution_count": 28,
   "metadata": {},
   "outputs": [],
   "source": [
    "from authorityspoke import Enactment\n",
    "\n",
    "works_of_authorship_passage = (\n",
    "    \"Copyright protection subsists, in accordance with this title, \"\n",
    "    + \"in original works of authorship\"\n",
    ")\n",
    "\n",
    "works_of_authorship_clause = legis_client.read(\"/us/usc/t17/s102/a\")\n",
    "works_of_authorship_clause.select(works_of_authorship_passage)"
   ]
  },
  {
   "cell_type": "markdown",
   "metadata": {},
   "source": [
    "Now we can create a new `Holding` object that cites to our new `Enactment` object rather than the old one. This time, instead of using the `new_context` method to create a new `Holding` object, we'll use Python's built-in `deepcopy` method. This method gives us an identical copy of the `Holding` object that we can change without changing the original. Then we can use the `set_enactments` method to change what `Enactment` is cited by the new `Holding`."
   ]
  },
  {
   "cell_type": "code",
   "execution_count": 29,
   "metadata": {},
   "outputs": [],
   "source": [
    "from copy import deepcopy\n",
    "\n",
    "holding_with_shorter_enactment = deepcopy(oracle.holdings[0])\n",
    "holding_with_shorter_enactment.set_enactments(works_of_authorship_clause)"
   ]
  },
  {
   "cell_type": "code",
   "execution_count": 30,
   "metadata": {},
   "outputs": [
    {
     "name": "stdout",
     "output_type": "stream",
     "text": [
      "the Holding to ACCEPT\n",
      "  the Rule that the court MUST SOMETIMES impose the\n",
      "    RESULT:\n",
      "      the Fact it is false that <the Java API> was copyrightable\n",
      "    GIVEN:\n",
      "      the Fact it is false that <the Java API> was an original work\n",
      "    GIVEN the ENACTMENT:\n",
      "      \"Copyright protection subsists, in accordance with this title, in original works of authorship…\" (/us/usc/t17/s102/a 2013-07-18)\n"
     ]
    }
   ],
   "source": [
    "print(holding_with_shorter_enactment)"
   ]
  },
  {
   "cell_type": "markdown",
   "metadata": {},
   "source": [
    "Now let's try comparing this new `Holding` with the real `Holding` from the _Oracle_ case, to see whether one implies the other. When you're comparing AuthoritySpoke objects, the greater than sign `>` means \"implies, but is not equal to\"."
   ]
  },
  {
   "cell_type": "code",
   "execution_count": 31,
   "metadata": {},
   "outputs": [
    {
     "data": {
      "text/plain": [
       "True"
      ]
     },
     "execution_count": 31,
     "metadata": {},
     "output_type": "execute_result"
    }
   ],
   "source": [
    "holding_with_shorter_enactment > oracle.holdings[0]"
   ]
  },
  {
   "cell_type": "markdown",
   "metadata": {},
   "source": [
    "You can also use the greater than or equal sign `>=` to mean \"implies or is equal to\". You can also use lesser than signs to test whether an object on the right side of the expression implies the object on the left. Thus, `<=` would mean \"is implied by or is equal to\"."
   ]
  },
  {
   "cell_type": "code",
   "execution_count": 32,
   "metadata": {},
   "outputs": [
    {
     "data": {
      "text/plain": [
       "False"
      ]
     },
     "execution_count": 32,
     "metadata": {},
     "output_type": "execute_result"
    }
   ],
   "source": [
    "holding_with_shorter_enactment <= oracle.holdings[0]"
   ]
  },
  {
   "cell_type": "markdown",
   "metadata": {},
   "source": [
    "By comparing the string representations of the original `Holding` from the _Oracle_ case and `holding_with_shorter_enactment`, can you tell why the latter implies the former, and not the other way around?\n",
    "\n",
    "If you guessed that it was because `holding_with_shorter_enactment` has a shorter `Enactment`, you're right. `Rule`s that require fewer, or less specific, inputs are _broader_ than `Rule`s that have more inputs, because there's a larger set of situations where those `Rule`s can be triggered.\n",
    "\n",
    "If this relationship isn't clear to you, imagine some \"Enactment A\" containing only a subset of the text of \"Enactment B\", and then imagine what would happen if a legislature amended some of the statutory text that was part of Enactment B but not of Enactment A. A requirement to cite Enactment B would no longer be possible to satisfy, because some of that text would no longer be available. Thus a requirement to cite Enactment A could be satisfied in every situation where a requirement to cite Enactment B could be satisfied, and then some."
   ]
  },
  {
   "cell_type": "markdown",
   "metadata": {},
   "source": [
    "## 9. Checking for Contradictions"
   ]
  },
  {
   "cell_type": "markdown",
   "metadata": {},
   "source": [
    "Let's turn back to the _Lotus_ case.\n",
    "\n",
    "It says that under a statute providing that \"In no case does copyright protection for an original work of authorship extend to any...method of operation\", the fact that a Lotus menu command hierarchy was a \"method of operation\" meant that it was also uncopyrightable, despite a couple of `Fact`s that might tempt some courts to rule the other way."
   ]
  },
  {
   "cell_type": "code",
   "execution_count": 33,
   "metadata": {},
   "outputs": [
    {
     "name": "stdout",
     "output_type": "stream",
     "text": [
      "the Holding to ACCEPT\n",
      "  the Rule that the court MUST ALWAYS impose the\n",
      "    RESULT:\n",
      "      the Fact it is false that <the Lotus menu command hierarchy> was\n",
      "      copyrightable\n",
      "    GIVEN:\n",
      "      the Fact that <the Lotus menu command hierarchy> was a method of\n",
      "      operation\n",
      "    DESPITE:\n",
      "      the Fact that a text described <the Lotus menu command hierarchy>\n",
      "      the Fact that <the Lotus menu command hierarchy> was an original work\n",
      "    GIVEN the ENACTMENT:\n",
      "      \"In no case does copyright protection for an original work of authorship extend to any…method of operation…\" (/us/usc/t17/s102/b 2013-07-18)\n"
     ]
    }
   ],
   "source": [
    "print(lotus.holdings[6])"
   ]
  },
  {
   "cell_type": "markdown",
   "metadata": {},
   "source": [
    "_Lotus_ was a case relied upon by Google in the _Oracle v. Google_ case, but Oracle was the winner in that decision. So we might wonder whether the _Oracle_ Opinion contradicts the _Lotus_ Opinion. Let's check."
   ]
  },
  {
   "cell_type": "code",
   "execution_count": 34,
   "metadata": {},
   "outputs": [
    {
     "data": {
      "text/plain": [
       "True"
      ]
     },
     "execution_count": 34,
     "metadata": {},
     "output_type": "execute_result"
    }
   ],
   "source": [
    "oracle.contradicts(lotus)"
   ]
  },
  {
   "cell_type": "markdown",
   "metadata": {},
   "source": [
    "That's good to know, but we don't want to take it on faith that a contradiction exists. Let's use the `explain_contradiction` method to find the contradictory `Holding`s posited by the _Oracle_ and _Lotus_ cases, and to generate a rudimentary explanation of why they contradict."
   ]
  },
  {
   "cell_type": "code",
   "execution_count": 35,
   "metadata": {},
   "outputs": [
    {
     "name": "stdout",
     "output_type": "stream",
     "text": [
      "EXPLANATION: Because <the Lotus menu command hierarchy> is like <the Java API>,\n",
      "  the Holding to ACCEPT\n",
      "    the Rule that the court MUST ALWAYS impose the\n",
      "      RESULT:\n",
      "        the Fact it is false that <the Lotus menu command hierarchy> was\n",
      "        copyrightable\n",
      "      GIVEN:\n",
      "        the Fact that <the Lotus menu command hierarchy> was a method of\n",
      "        operation\n",
      "      DESPITE:\n",
      "        the Fact that a text described <the Lotus menu command hierarchy>\n",
      "        the Fact that <the Lotus menu command hierarchy> was an original work\n",
      "      GIVEN the ENACTMENT:\n",
      "        \"In no case does copyright protection for an original work of authorship extend to any…method of operation…\" (/us/usc/t17/s102/b 2013-07-18)\n",
      "CONTRADICTS\n",
      "  the Holding to ACCEPT\n",
      "    the Rule that the court MUST SOMETIMES impose the\n",
      "      RESULT:\n",
      "        the Fact that <the Java API> was copyrightable\n",
      "      GIVEN:\n",
      "        the Fact that <the Java language> was a computer program\n",
      "        the Fact that <the Java API> was a set of application programming\n",
      "        interface declarations\n",
      "        the Fact that <the Java API> was an original work\n",
      "        the Fact that <the Java API> was a non-literal element of <the Java\n",
      "        language>\n",
      "        the Fact that <the Java API> was the expression of an idea\n",
      "        the Fact it is false that <the Java API> was essentially the only way\n",
      "        to express the idea that it embodied\n",
      "        the Fact that <the Java API> was creative\n",
      "        the Fact that it was possible to use <the Java language> without\n",
      "        copying <the Java API>\n",
      "      DESPITE:\n",
      "        the Fact that <the Java API> was a method of operation\n",
      "        the Fact that <the Java API> contained short phrases\n",
      "        the Fact that <the Java API> became so popular that it was the\n",
      "        industry standard\n",
      "        the Fact that there was a preexisting community of programmers\n",
      "        accustomed to using <the Java API>\n",
      "      GIVEN the ENACTMENT:\n",
      "        \"Copyright protection subsists, in accordance with this title, in original works of authorship fixed in any tangible medium of expression, now known or later developed, from which they can be perceived, reproduced, or otherwise communicated, either directly or with the aid of a machine or device.…\" (/us/usc/t17/s102/a 2013-07-18)\n",
      "      DESPITE the ENACTMENTS:\n",
      "        \"In no case does copyright protection for an original work of authorship extend to any…method of operation…\" (/us/usc/t17/s102/b 2013-07-18)\n",
      "        \"The following are examples of works not subject to copyright and applications for registration of such works cannot be entertained: Words and short phrases such as names, titles, and slogans; familiar symbols or designs; mere variations of typographic ornamentation, lettering or coloring; mere listing of ingredients or contents; Ideas, plans, methods, systems, or devices, as distinguished from the particular manner in which they are expressed or described in a writing;  Blank forms, such as time cards, graph paper, account books, diaries, bank checks, scorecards, address books, report forms, order forms and the like, which are designed for recording information and do not in themselves convey information; Works consisting entirely of information that is common property containing no original authorship, such as, for example: Standard calendars, height and weight charts, tape measures and rulers, schedules of sporting events, and lists or tables taken from public documents or other common sources. Typeface as typeface.\" (/us/cfr/t37/s202.1 1992-02-21)\n"
     ]
    }
   ],
   "source": [
    "explanation = lotus.explain_contradiction(oracle)\n",
    "print(explanation)"
   ]
  },
  {
   "cell_type": "markdown",
   "metadata": {},
   "source": [
    "That's a really complicated holding! Good thing we have AuthoritySpoke to help us grapple with it.\n",
    "\n",
    "We can use the `explanations_contradiction` method directly on `Holding`s to generate all available \"explanations\" of why a contradiction is possible between these lotus.holdings[6] and oracle.holdings[10]. Each `Explanation` includes a mapping that shows how the context factors of the `Holding` on the left can be mapped onto the `Holding` on the right. The explanation we've already been given is that these two `Holding`s contradict each other if you consider 'the Lotus menu command hierarchy' to be analagous to 'the Java API'. The other possible explanation AuthoritySpoke could have given would have been that 'the Lotus menu command hierarchy' is analagous to 'the Java language'. Let's see if the other possible `Explanation` also appears in `explanations`. (The `explain_contradiction` method returns only one one `Explanation`\\, but `explanations_contradiction` returns all it can find.)"
   ]
  },
  {
   "cell_type": "code",
   "execution_count": 36,
   "metadata": {},
   "outputs": [
    {
     "data": {
      "text/plain": [
       "1"
      ]
     },
     "execution_count": 36,
     "metadata": {},
     "output_type": "execute_result"
    }
   ],
   "source": [
    "explanations = list(lotus.holdings[6].explanations_contradiction(oracle.holdings[10]))\n",
    "len(explanations)"
   ]
  },
  {
   "cell_type": "markdown",
   "metadata": {},
   "source": [
    "No, there's only the one explanation of how these rules can contradict each other. If you read the _Oracle_ case, this makes sense. It's only about infringing the copyright in the Java API, not the copyright in the whole Java language. A statement about infringement of 'the Java language' would be irrelevant, not contradictory.\n",
    "\n",
    "But what exactly is the contradiction between the two `Holding`s?"
   ]
  },
  {
   "cell_type": "markdown",
   "metadata": {},
   "source": [
    "The first obvious contrast between `lotus.holdings[6]` and `oracle.holdings[10]` is that the `Holding` from the _Lotus_ case is relatively succinct and categorical. The _Lotus_ court interprets Section 102(b) of the Copyright Act to mean that if a work is a \"method of operation\", it's simply impossible for that work to be copyrighted, so it's not necessary to consider a lot of case-specific facts to reach a conclusion.\n",
    "\n",
    "The Federal Circuit's _Oracle_ decision complicates that view significantly. The Federal Circuit believes that the fact that an API is, or hypothetically might be, a \"method of operation\" is only one of many factors that a court can consider in deciding copyrightability. The following quotation, repeated in the _Oracle_ case, illustrates the Federal Circuit's view.\n",
    "\n",
    "> “Section 102(b) does not extinguish the protection accorded a particular expression of an idea merely because that expression is embodied in a method of operation.” Mitel, Inc. v. Iqtel, Inc., 124 F.3d 1366, 1372 (10th Cir.1997)\n",
    "\n",
    "And that's why AuthoritySpoke finds a contradiction between these two `Rule`s. The _Oracle_ opinion says that courts can sometimes accept the result `the Fact that <the Java API> was copyrightable` despite the `Fact` `<the Java API> was a method of operation`. The _Lotus_ Opinion would consider that impossible.\n",
    "\n",
    "By the way, AuthoritySpoke does not draw on any Natural Language Understanding technologies to determine the meaning of each `Fact`. AuthoritySpoke mostly won't recognize that `Fact`s have the same meaning unless their `content` values are exactly the same string. As discussed above, they can also differ in their references to generic factors, which are the phrases that appear in brackets when you use the `str()` command on them. (Also, AuthoritySpoke has a limited ability to compare numerical statements in `Fact`s using [pint](https://pint.readthedocs.io/en/stable/), an amazing Python library that performs dimensional analysis.)"
   ]
  },
  {
   "cell_type": "markdown",
   "metadata": {},
   "source": [
    "## 10. Adding Holdings to One Another"
   ]
  },
  {
   "cell_type": "markdown",
   "metadata": {},
   "source": [
    "To try out the addition operation, let's load another case from the `example_data` folder."
   ]
  },
  {
   "cell_type": "code",
   "execution_count": 37,
   "metadata": {},
   "outputs": [],
   "source": [
    "feist = load_and_read_decision(\"feist_h.json\")\n",
    "feist.posit(load_holdings_with_anchors(\"holding_feist.json\", client=legis_client))\n"
   ]
  },
  {
   "cell_type": "markdown",
   "metadata": {},
   "source": [
    "[_Feist Publications, Inc. v. Rural Telephone Service Co._](https://en.wikipedia.org/wiki/Feist_Publications,_Inc.,_v._Rural_Telephone_Service_Co.) was a case that held that the listings in a telephone directory did not qualify as \"an original work\" and that only original works are eligible for protection under the Copyright Act. This is a two-step analysis. \n",
    "\n",
    "The first step results in the `Fact` it is false that a generic `Entity` was \"an original work\": "
   ]
  },
  {
   "cell_type": "code",
   "execution_count": 38,
   "metadata": {},
   "outputs": [
    {
     "name": "stdout",
     "output_type": "stream",
     "text": [
      "the Holding to ACCEPT\n",
      "  the Rule that the court MAY SOMETIMES impose the\n",
      "    RESULT:\n",
      "      the Fact it is false that <Rural's telephone listings> were an\n",
      "      original work\n",
      "    GIVEN:\n",
      "      the Fact that <Rural's telephone listings> were names, towns, and\n",
      "      telephone numbers of telephone subscribers\n",
      "    GIVEN the ENACTMENTS:\n",
      "      \"To promote the Progress of Science and useful Arts, by securing for limited Times to Authors…the exclusive Right to their respective Writings…\" (/us/const/article/I/8/8 1788-09-13)\n",
      "      \"Copyright protection subsists, in accordance with this title, in original works of authorship…\" (/us/usc/t17/s102/a 2013-07-18)\n",
      "      \"The copyright in a compilation…extends only to the material contributed by the author of such work, as distinguished from the preexisting material employed in the work, and does not imply any exclusive right in the preexisting material.…\" (/us/usc/t17/s103/b 2013-07-18)\n"
     ]
    }
   ],
   "source": [
    "print(feist.holdings[10])"
   ]
  },
  {
   "cell_type": "markdown",
   "metadata": {},
   "source": [
    "And the second step relies on the result of the first step to reach the further result of \"absence of the Fact that\" a generic `Entity` was \"copyrightable\"."
   ]
  },
  {
   "cell_type": "code",
   "execution_count": 39,
   "metadata": {},
   "outputs": [
    {
     "name": "stdout",
     "output_type": "stream",
     "text": [
      "the Holding to ACCEPT that the EXCLUSIVE way to reach the fact that\n",
      "<Rural's telephone directory> was copyrightable is\n",
      "  the Rule that the court MAY SOMETIMES impose the\n",
      "    RESULT:\n",
      "      the Fact that <Rural's telephone directory> was copyrightable\n",
      "    GIVEN:\n",
      "      the Fact that <Rural's telephone directory> was an original work\n",
      "    GIVEN the ENACTMENTS:\n",
      "      \"To promote the Progress of Science and useful Arts, by securing for limited Times to Authors…the exclusive Right to their respective Writings…\" (/us/const/article/I/8/8 1788-09-13)\n",
      "      \"Copyright protection subsists, in accordance with this title, in original works of authorship…\" (/us/usc/t17/s102/a 2013-07-18)\n"
     ]
    }
   ],
   "source": [
    "print(feist.holdings[3])"
   ]
  },
  {
   "cell_type": "markdown",
   "metadata": {},
   "source": [
    "In this situation, anytime the first Holding (feist.holdings[10]) is applied, the second Holding (feist.holdings[3]) can be applied as well. That means the two Holdings can be added together to make a single Holding that captures the whole process."
   ]
  },
  {
   "cell_type": "code",
   "execution_count": 40,
   "metadata": {},
   "outputs": [
    {
     "name": "stdout",
     "output_type": "stream",
     "text": [
      "the Holding to ACCEPT\n",
      "  the Rule that the court MAY SOMETIMES impose the\n",
      "    RESULT:\n",
      "      the Fact it is false that <Rural's telephone listings> were an\n",
      "      original work\n",
      "      absence of the Fact that <Rural's telephone listings> were\n",
      "      copyrightable\n",
      "    GIVEN:\n",
      "      the Fact that <Rural's telephone listings> were names, towns, and\n",
      "      telephone numbers of telephone subscribers\n",
      "    GIVEN the ENACTMENTS:\n",
      "      \"To promote the Progress of Science and useful Arts, by securing for limited Times to Authors…the exclusive Right to their respective Writings…\" (/us/const/article/I/8/8 1788-09-13)\n",
      "      \"Copyright protection subsists, in accordance with this title, in original works of authorship…\" (/us/usc/t17/s102/a 2013-07-18)\n",
      "      \"The copyright in a compilation…extends only to the material contributed by the author of such work, as distinguished from the preexisting material employed in the work, and does not imply any exclusive right in the preexisting material.…\" (/us/usc/t17/s103/b 2013-07-18)\n"
     ]
    }
   ],
   "source": [
    "listings_not_copyrightable = feist.holdings[10] + feist.holdings[3]\n",
    "print(listings_not_copyrightable)"
   ]
  },
  {
   "cell_type": "markdown",
   "metadata": {},
   "source": [
    "The difference between `feist.holdings[10]` and the newly-created Holding `listings_not_copyrightable` is that `listings_not_copyrightable` has two Factors under its \"RESULT\", not just one. Notice that it doesn't matter that the two original Holdings reference different generic Entities (\"Rural's telephone directory\" versus \"Rural's telephone listings\"). Because they're generic, they're interchangeable for this purpose."
   ]
  },
  {
   "cell_type": "markdown",
   "metadata": {},
   "source": [
    "You might recall that oracle.holdings[0] also was also about the relationship between originality and copyrightability. Let's see what happens when we add oracle.holdings[0] to feist.holdings[10]."
   ]
  },
  {
   "cell_type": "code",
   "execution_count": 41,
   "metadata": {},
   "outputs": [
    {
     "name": "stdout",
     "output_type": "stream",
     "text": [
      "None\n"
     ]
    }
   ],
   "source": [
    "print(feist.holdings[10] + oracle.holdings[0])"
   ]
  },
  {
   "cell_type": "markdown",
   "metadata": {},
   "source": [
    "Can you guess why it's not possible to add these two Holdings together? Here's a hint:"
   ]
  },
  {
   "cell_type": "code",
   "execution_count": 42,
   "metadata": {},
   "outputs": [
    {
     "data": {
      "text/plain": [
       "False"
      ]
     },
     "execution_count": 42,
     "metadata": {},
     "output_type": "execute_result"
    }
   ],
   "source": [
    "feist.holdings[10].exclusive"
   ]
  },
  {
   "cell_type": "code",
   "execution_count": 43,
   "metadata": {},
   "outputs": [
    {
     "data": {
      "text/plain": [
       "False"
      ]
     },
     "execution_count": 43,
     "metadata": {},
     "output_type": "execute_result"
    }
   ],
   "source": [
    "oracle.holdings[0].exclusive"
   ]
  },
  {
   "cell_type": "code",
   "execution_count": 44,
   "metadata": {},
   "outputs": [
    {
     "data": {
      "text/plain": [
       "True"
      ]
     },
     "execution_count": 44,
     "metadata": {},
     "output_type": "execute_result"
    }
   ],
   "source": [
    "feist.holdings[3].exclusive"
   ]
  },
  {
   "cell_type": "markdown",
   "metadata": {},
   "source": [
    "`feist.holdings[10]` and `oracle.holdings[0]` are both Holdings that purport to apply in only \"SOME\" cases where the specified inputs are present, while `feist.holdings[3]` purports to be the \"EXCLUSIVE\" way to reach its output, which indicates a statement about \"ALL\" cases.\n",
    "\n",
    "You can't infer that there's any situation where `feist.holdings[10]` and `oracle.holdings[0]` can actually be applied together, because there might not be any overlap between the \"SOME\" cases where one applies and the \"SOME\" cases where the other applies. But if `feist.holdings[10]` and `feist.holdings[3]` are both valid law, then we know they can both apply together in any of the \"SOME\" cases where `feist.holdings[10]` applies."
   ]
  },
  {
   "cell_type": "markdown",
   "metadata": {},
   "source": [
    "## 11. Set Operations with Holdings"
   ]
  },
  {
   "cell_type": "markdown",
   "metadata": {},
   "source": [
    "In AuthoritySpoke, the union operation is different from the addition operation, and it usually gives different results."
   ]
  },
  {
   "cell_type": "code",
   "execution_count": 45,
   "metadata": {},
   "outputs": [
    {
     "data": {
      "text/plain": [
       "False"
      ]
     },
     "execution_count": 45,
     "metadata": {},
     "output_type": "execute_result"
    }
   ],
   "source": [
    "result_of_adding = feist.holdings[10] + feist.holdings[3]\n",
    "result_of_union = feist.holdings[10] | feist.holdings[3]\n",
    "\n",
    "result_of_adding == result_of_union"
   ]
  },
  {
   "cell_type": "markdown",
   "metadata": {},
   "source": [
    "Two set operations that can be meaningfully applied to AuthoritySpoke objects are the union operation (using Python's | operator) and the intersection operation (not yet implemented in AuthoritySpoke 0.3)."
   ]
  },
  {
   "cell_type": "markdown",
   "metadata": {},
   "source": [
    "For context, let's review how these operators apply to ordinary Python sets. The union operator combines two sets by returning a new set with all of the elements of either of the original sets."
   ]
  },
  {
   "cell_type": "code",
   "execution_count": 46,
   "metadata": {},
   "outputs": [
    {
     "data": {
      "text/plain": [
       "{1, 3, 4, 5}"
      ]
     },
     "execution_count": 46,
     "metadata": {},
     "output_type": "execute_result"
    }
   ],
   "source": [
    "{3, 4} | {1, 4, 5}"
   ]
  },
  {
   "cell_type": "markdown",
   "metadata": {},
   "source": [
    "The intersection operator returns a new set with only the elements that were in both original sets."
   ]
  },
  {
   "cell_type": "code",
   "execution_count": 47,
   "metadata": {},
   "outputs": [
    {
     "data": {
      "text/plain": [
       "{4}"
      ]
     },
     "execution_count": 47,
     "metadata": {},
     "output_type": "execute_result"
    }
   ],
   "source": [
    "{3, 4} & {1, 4, 5}"
   ]
  },
  {
   "cell_type": "markdown",
   "metadata": {},
   "source": [
    "Apply the union operator to two `Holding`s to get a new `Holding` with all of the inputs and all of the outputs of both of the two original `Holding`s. However, you only get such a new `Holding` if it can be inferred by accepting the truth of the two original `Holding`s. If the two original `Holding`s contradict one another, the operation returns `None`. Likewise, if the two original `Holding`s both have the value `False` for the parameter `universal`, the operation will return `None` if it's possible that the \"SOME\" cases where one of the original `Holding`s applies don't overlap with the \"SOME\" cases where the other applies.\n",
    "\n",
    "In this example, we'll look at a `Holding` from _Oracle_, then a `Holding` from _Feist_, and then the union of both of them."
   ]
  },
  {
   "cell_type": "code",
   "execution_count": 48,
   "metadata": {},
   "outputs": [
    {
     "name": "stdout",
     "output_type": "stream",
     "text": [
      "the Holding to ACCEPT\n",
      "  the Rule that the court MUST ALWAYS impose the\n",
      "    RESULT:\n",
      "      the Fact that <the Java API> was an original work\n",
      "    GIVEN:\n",
      "      the Fact that <the Java API> was independently created by the author,\n",
      "      as opposed to copied from other works\n",
      "      the Fact that <the Java API> possessed at least some minimal degree of\n",
      "      creativity\n",
      "    GIVEN the ENACTMENT:\n",
      "      \"Copyright protection subsists, in accordance with this title, in original works of authorship fixed in any tangible medium of expression, now known or later developed, from which they can be perceived, reproduced, or otherwise communicated, either directly or with the aid of a machine or device.…\" (/us/usc/t17/s102/a 2013-07-18)\n"
     ]
    }
   ],
   "source": [
    "print(oracle.holdings[1])"
   ]
  },
  {
   "cell_type": "code",
   "execution_count": 49,
   "metadata": {},
   "outputs": [
    {
     "name": "stdout",
     "output_type": "stream",
     "text": [
      "the Holding to ACCEPT\n",
      "  the Rule that the court MUST ALWAYS impose the\n",
      "    RESULT:\n",
      "      the Fact it is false that <Rural's telephone directory> was\n",
      "      copyrightable\n",
      "    GIVEN:\n",
      "      the Fact that <Rural's telephone directory> was an idea\n",
      "    GIVEN the ENACTMENT:\n",
      "      \"To promote the Progress of Science and useful Arts, by securing for limited Times to Authors…the exclusive Right to their respective Writings…\" (/us/const/article/I/8/8 1788-09-13)\n"
     ]
    }
   ],
   "source": [
    "print(feist.holdings[2])"
   ]
  },
  {
   "cell_type": "code",
   "execution_count": 50,
   "metadata": {},
   "outputs": [
    {
     "name": "stdout",
     "output_type": "stream",
     "text": [
      "the Holding to ACCEPT\n",
      "  the Rule that the court MUST ALWAYS impose the\n",
      "    RESULT:\n",
      "      the Fact it is false that <the Java API> was copyrightable\n",
      "      the Fact that <the Java API> was an original work\n",
      "    GIVEN:\n",
      "      the Fact that <the Java API> was an idea\n",
      "      the Fact that <the Java API> possessed at least some minimal degree of\n",
      "      creativity\n",
      "      the Fact that <the Java API> was independently created by the author,\n",
      "      as opposed to copied from other works\n",
      "    GIVEN the ENACTMENTS:\n",
      "      \"To promote the Progress of Science and useful Arts, by securing for limited Times to Authors…the exclusive Right to their respective Writings…\" (/us/const/article/I/8/8 1788-09-13)\n",
      "      \"Copyright protection subsists, in accordance with this title, in original works of authorship fixed in any tangible medium of expression, now known or later developed, from which they can be perceived, reproduced, or otherwise communicated, either directly or with the aid of a machine or device.…\" (/us/usc/t17/s102/a 2013-07-18)\n"
     ]
    }
   ],
   "source": [
    "print(oracle.holdings[1] | feist.holdings[2])"
   ]
  },
  {
   "cell_type": "markdown",
   "metadata": {},
   "source": [
    "It's not obvious that a litigant could really establish all the \"GIVEN\" Factors listed above in a single case in a court where `oracle.holdings[1]` and `feist.holdings[2]` were both valid law, but if they could, then it seems correct for AuthoritySpoke to conclude that the court would have to find both `the Fact that <the Java API> was an original work` and `the Fact it is false that <the Java API> was copyrightable`.\n",
    "\n",
    "The union operator is useful for searching for contradictions in a collection of `Holding`s. When two `Holding`s are combined together with the union operator, their union might contradict other `Holding`s that neither of the two original `Holding`s would have contradicted on their own."
   ]
  },
  {
   "cell_type": "markdown",
   "metadata": {},
   "source": [
    "## 12. Nuances of Meaning in Holdings"
   ]
  },
  {
   "cell_type": "markdown",
   "metadata": {},
   "source": [
    "Let's look at one more sentence from the _Oracle_ `Opinion`, so I can point out a few more design decisions AuthoritySpoke makes in representing procedural `Holding`s.\n",
    "\n",
    "> In the Ninth Circuit, while questions regarding originality are considered questions of copyrightability, concepts of merger and scenes a faire are affirmative defenses to claims of infringement.\n",
    "\n",
    "(The \"merger\" doctrine says that a work is deemed to be \"merged\" with an uncopyrightable idea if it's essentially the only way to express the idea. \"Scenes a faire\" is a concept applied mostly to works of fiction, and it means that conventional genre tropes are not copyrightable.)\n",
    "\n",
    "The quoted sentence is fairly ordinary, as court opinions go, but I found several interesting challenges in creating structered data about its procedural meaning.\n",
    "\n",
    "1. The sentence describes what the law is \"In the Ninth Circuit\". You might remember that the court that issued the _Oracle_ opinion was the Federal Circuit, not the Ninth Circuit. So the Federal Circuit is deciding what it thinks that the Ninth Circuit thinks that Congress meant by enacting the statute. The middle layer of this interpretation, in which the Federal Circuit attributes a belief to the Ninth Circuit, is simply absent from the AuthoritySpoke model of the `Holding`. However, future updates to AuthoritySpoke might make it possible to capture this information.\n",
    "\n",
    "2. The sentence uses the concept of an \"affirmative defense\", which generally means a defense that the defendant has the burden of proof to establish. I chose to model this concept by writing that if one of the facts that would establish the affirmative defense is present, then it could be established that the copyright was not infringed, but if they are both absent, then the copyright could have been infringed. I'm sure some legal experts would find this too simplistic, and would argue that it's not possible to formalize the concept of an affirmative defense without explicitly mentioning procedural concepts like a burden of proof.\n",
    "\n",
    "3. The sentence seems to have something to say about what happens if either of two Factors are present, or if both of them are absent. That makes three different Rules. It's not ideal for one sentence to explode into multiple different Python objects when it's formalized, and it's worth wondering whether there would have been a way to pack all the information into a single object. \n",
    "\n",
    "4. I noticed that the concept of a copyrighted work being \"merged\" or being a \"scene a faire\" are both characteristics intrinsic in the copyrighted work, and don't depend on the characteristics of the allegedly infringing work. So if a work that's \"merged\" or is a \"scene a faire\" can't be infringed, but those concepts aren't relevant to copyrightability, then that means there are some works that are \"copyrightable\" but that can never be infringed by any other work. I suspect that the court's interpretation of these legal categories could confuse future courts and parties, with the result that the \"merger\" or \"scene a faire\" concepts could fall through the cracks and be ignored. Would there be a useful way to have AuthoritySpoke flag such anomalies?\n",
    "\n",
    "The three Holding objects used to represent the sentence from the _Oracle_ opinion can be found in the Appendix below. They're `oracle.holdings[11]` through `oracle.holdings[13]`."
   ]
  },
  {
   "cell_type": "markdown",
   "metadata": {},
   "source": [
    "## Appendix: Holding Objects in *Oracle v. Google* and *Lotus v. Borland*"
   ]
  },
  {
   "cell_type": "markdown",
   "metadata": {},
   "source": [
    "This Appendix will list all of the Holding objects in `oracle.holdings` and `lotus.holdings`. Each `Holding` will be preceded by a passage from the `Opinion` that indicates the `Opinion` has endorsed the `Holding`. In future versions, AuthoritySpoke will give users the ability to explore the text passages in `Opinion`s that provide support for each `Holding`, but that's currently not fully implemented.\n",
    "\n",
    "To find the full text of the opinions, look in the example_data/opinions/ folder. The text delivered by the CAP API was collected from print sources, so it will contain some Optical Character Recognition errors."
   ]
  },
  {
   "cell_type": "markdown",
   "metadata": {},
   "source": [
    "### *Lotus v. Borland* 49 F.3d 807 (1995)"
   ]
  },
  {
   "cell_type": "markdown",
   "metadata": {},
   "source": [
    "> To establish copyright infringement, a plaintiff must prove \"(1) ownership of a valid copyright, and (2) copying of constituent elements of the work that are original.\""
   ]
  },
  {
   "cell_type": "code",
   "execution_count": 51,
   "metadata": {},
   "outputs": [
    {
     "name": "stdout",
     "output_type": "stream",
     "text": [
      "the Holding to ACCEPT that the EXCLUSIVE way to reach the fact that\n",
      "<Borland International> infringed the copyright in <the Lotus menu\n",
      "command hierarchy> is\n",
      "  the Rule that the court MAY SOMETIMES impose the\n",
      "    RESULT:\n",
      "      the Fact that <Borland International> infringed the copyright in <the\n",
      "      Lotus menu command hierarchy>\n",
      "    GIVEN:\n",
      "      the Fact that <the Lotus menu command hierarchy> was copyrightable\n",
      "      the Fact that <Borland International> copied constituent elements of\n",
      "      <the Lotus menu command hierarchy> that were original\n",
      "    GIVEN the ENACTMENT:\n",
      "      \"Copyright protection subsists, in accordance with this title, in original works of authorship fixed in any tangible medium of expression, now known or later developed, from which they can be perceived, reproduced, or otherwise communicated, either directly or with the aid of a machine or device.…\" (/us/usc/t17/s102/a 2013-07-18)\n"
     ]
    }
   ],
   "source": [
    "print(lotus.holdings[0])"
   ]
  },
  {
   "cell_type": "markdown",
   "metadata": {},
   "source": [
    "> To, show ownership of a valid copyright and therefore satisfy Feist’s first prong, a plaintiff must prove that the work as a whole is original and that the plaintiff complied with applicable statutory formalities."
   ]
  },
  {
   "cell_type": "code",
   "execution_count": 52,
   "metadata": {},
   "outputs": [
    {
     "name": "stdout",
     "output_type": "stream",
     "text": [
      "the Holding to ACCEPT\n",
      "  the Rule that the court MAY ALWAYS impose the\n",
      "    RESULT:\n",
      "      absence of the Fact that <the Lotus menu command hierarchy> was\n",
      "      copyrightable\n",
      "    GIVEN:\n",
      "      absence of the Fact that <the Lotus menu command hierarchy> was an\n",
      "      original work\n",
      "    GIVEN the ENACTMENT:\n",
      "      \"Copyright protection subsists, in accordance with this title, in original works of authorship fixed in any tangible medium of expression, now known or later developed, from which they can be perceived, reproduced, or otherwise communicated, either directly or with the aid of a machine or device.…\" (/us/usc/t17/s102/a 2013-07-18)\n"
     ]
    }
   ],
   "source": [
    "print(lotus.holdings[1])"
   ]
  },
  {
   "cell_type": "markdown",
   "metadata": {},
   "source": [
    "> In judicial proceedings, a certificate of copyright registration constitutes prima facie evidence of copyrightability and shifts the burden to the defendant to demonstrate why the copyright is not valid."
   ]
  },
  {
   "cell_type": "code",
   "execution_count": 53,
   "metadata": {},
   "outputs": [
    {
     "name": "stdout",
     "output_type": "stream",
     "text": [
      "the Holding to ACCEPT\n",
      "  the Rule that the court MAY SOMETIMES impose the\n",
      "    RESULT:\n",
      "      the Fact that <the Lotus menu command hierarchy> was copyrightable\n",
      "    GIVEN:\n",
      "      the Evidence \n",
      "        OF:\n",
      "          the Exhibit in the FORM certificate of copyright registration\n",
      "        INDICATING:\n",
      "          the Fact that <Lotus Development Corporation> registered a copyright\n",
      "          covering <the Lotus menu command hierarchy>\n",
      "      absence of the Fact it is false that <the Lotus menu command\n",
      "      hierarchy> was copyrightable\n",
      "    GIVEN the ENACTMENT:\n",
      "      \"In any judicial proceedings the certificate of a registration made before or within five years after first publication of the work shall constitute prima facie evidence of the validity of the copyright and of the facts stated in the certificate. The evidentiary weight to be accorded the certificate of a registration made thereafter shall be within the discretion of the court.\" (/us/usc/t17/s410/c 2013-07-18)\n"
     ]
    }
   ],
   "source": [
    "print(lotus.holdings[2])"
   ]
  },
  {
   "cell_type": "markdown",
   "metadata": {},
   "source": [
    "> To show actionable copying and therefore satisfy Feist’s second prong, a plaintiff must first prove that the alleged infringer copied plaintiffs copyrighted work as a factual matter; to do this, he or she may either present direct evidence of factual copying or..."
   ]
  },
  {
   "cell_type": "code",
   "execution_count": 54,
   "metadata": {},
   "outputs": [
    {
     "name": "stdout",
     "output_type": "stream",
     "text": [
      "the Holding to ACCEPT\n",
      "  the Rule that the court MAY SOMETIMES impose the\n",
      "    RESULT:\n",
      "      the Fact that <Borland International> copied <the Lotus menu command\n",
      "      hierarchy> in creating <Quattro's Lotus Emulation Interface>\n",
      "    GIVEN:\n",
      "      the Evidence \n",
      "        INDICATING:\n",
      "          the Fact that <Borland International> copied <the Lotus menu command\n",
      "          hierarchy> in creating <Quattro's Lotus Emulation Interface>\n",
      "    GIVEN the ENACTMENT:\n",
      "      \"Copyright protection subsists, in accordance with this title, in original works of authorship fixed in any tangible medium of expression, now known or later developed, from which they can be perceived, reproduced, or otherwise communicated, either directly or with the aid of a machine or device.…\" (/us/usc/t17/s102/a 2013-07-18)\n"
     ]
    }
   ],
   "source": [
    "print(lotus.holdings[3])"
   ]
  },
  {
   "cell_type": "markdown",
   "metadata": {},
   "source": [
    "> To show actionable copying and therefore satisfy Feist’s second prong, a plaintiff must first prove that the alleged infringer copied plaintiffs copyrighted work as a factual matter; to do this, he or she may either present direct evidence of factual copying or, if that is unavailable, evidence that the alleged infringer had access to the copyrighted work and that the offending and copyrighted works are so similar that the court may infer that there was factual copying (i.e., probative similarity)."
   ]
  },
  {
   "cell_type": "code",
   "execution_count": 55,
   "metadata": {},
   "outputs": [
    {
     "name": "stdout",
     "output_type": "stream",
     "text": [
      "the Holding to ACCEPT\n",
      "  the Rule that the court MAY SOMETIMES impose the\n",
      "    RESULT:\n",
      "      the Fact that <Borland International> copied <the Lotus menu command\n",
      "      hierarchy> in creating <Quattro's Lotus Emulation Interface>\n",
      "    GIVEN:\n",
      "      the Evidence \n",
      "        INDICATING:\n",
      "          the Fact that <Borland International> had access to <the Lotus menu\n",
      "          command hierarchy>\n",
      "      the Fact that <Borland International> published <Quattro's Lotus\n",
      "      Emulation Interface>\n",
      "      the Evidence \n",
      "        INDICATING:\n",
      "          the Fact that <Quattro's Lotus Emulation Interface> was very similar\n",
      "          to <the Lotus menu command hierarchy>\n",
      "    GIVEN the ENACTMENT:\n",
      "      \"Copyright protection subsists, in accordance with this title, in original works of authorship fixed in any tangible medium of expression, now known or later developed, from which they can be perceived, reproduced, or otherwise communicated, either directly or with the aid of a machine or device.…\" (/us/usc/t17/s102/a 2013-07-18)\n"
     ]
    }
   ],
   "source": [
    "print(lotus.holdings[4])"
   ]
  },
  {
   "cell_type": "markdown",
   "metadata": {},
   "source": [
    "> To show actionable copying and therefore satisfy Feist’s second prong, a plaintiff must first prove that the alleged infringer copied plaintiffs copyrighted work as a factual matter...The plaintiff must then prove that the copying of copyrighted material was so extensive that it rendered the offending and copyrighted works substantially similar."
   ]
  },
  {
   "cell_type": "code",
   "execution_count": 56,
   "metadata": {},
   "outputs": [
    {
     "name": "stdout",
     "output_type": "stream",
     "text": [
      "the Holding to ACCEPT\n",
      "  the Rule that the court MAY SOMETIMES impose the\n",
      "    RESULT:\n",
      "      the Fact that <Borland International> copied constituent elements of\n",
      "      <the Lotus menu command hierarchy> that were original\n",
      "    GIVEN:\n",
      "      the Fact that <Borland International> copied <the Lotus menu command\n",
      "      hierarchy> in creating <Quattro's Lotus Emulation Interface>\n",
      "      the Fact that the copying of <Quattro's Lotus Emulation Interface> in\n",
      "      <the Lotus menu command hierarchy> was so extensive that it rendered\n",
      "      them substantially similar\n",
      "    GIVEN the ENACTMENT:\n",
      "      \"Copyright protection subsists, in accordance with this title, in original works of authorship fixed in any tangible medium of expression, now known or later developed, from which they can be perceived, reproduced, or otherwise communicated, either directly or with the aid of a machine or device.…\" (/us/usc/t17/s102/a 2013-07-18)\n"
     ]
    }
   ],
   "source": [
    "print(lotus.holdings[5])"
   ]
  },
  {
   "cell_type": "markdown",
   "metadata": {},
   "source": [
    "> Section 102(b) states: “In no case does copyright protection for an original work of authorship extend to any idea, procedure, process, system, method of operation, concept, principle, or discovery, regardless of the form in which it is described, explained, illustrated, or embodied in such work.” Because we conclude that the Lotus menu command hierarchy is a method of operation, we do not consider whether it could also be a system, process, or procedure...while original expression is necessary for copyright protection, we do not think that it is alone sufficient. Courts must still inquire whether original expression falls within one of the categories foreclosed from copyright protection by § 102(b), such as being a “method of operation.”"
   ]
  },
  {
   "cell_type": "code",
   "execution_count": 57,
   "metadata": {},
   "outputs": [
    {
     "name": "stdout",
     "output_type": "stream",
     "text": [
      "the Holding to ACCEPT\n",
      "  the Rule that the court MUST ALWAYS impose the\n",
      "    RESULT:\n",
      "      the Fact it is false that <the Lotus menu command hierarchy> was\n",
      "      copyrightable\n",
      "    GIVEN:\n",
      "      the Fact that <the Lotus menu command hierarchy> was a method of\n",
      "      operation\n",
      "    DESPITE:\n",
      "      the Fact that a text described <the Lotus menu command hierarchy>\n",
      "      the Fact that <the Lotus menu command hierarchy> was an original work\n",
      "    GIVEN the ENACTMENT:\n",
      "      \"In no case does copyright protection for an original work of authorship extend to any…method of operation…\" (/us/usc/t17/s102/b 2013-07-18)\n"
     ]
    }
   ],
   "source": [
    "print(lotus.holdings[6])"
   ]
  },
  {
   "cell_type": "markdown",
   "metadata": {},
   "source": [
    "> We hold that the Lotus menu command hierarchy is an uneopyrightable “method of operation.” The Lotus menu command hierarchy provides the means by which users control and operate Lotus 1-2-3. If users wish to copy material, for example, they use the “Copy” command. If users wish to print material, they use the “Print” command. Users must use the command terms to tell the computer what to do. Without the menu command hierarchy, users would not be able to access and control, or indeed make use of, Lotus 1-2-3’s functional capabilities."
   ]
  },
  {
   "cell_type": "code",
   "execution_count": 58,
   "metadata": {},
   "outputs": [
    {
     "name": "stdout",
     "output_type": "stream",
     "text": [
      "the Holding to ACCEPT\n",
      "  the Rule that the court MAY SOMETIMES impose the\n",
      "    RESULT:\n",
      "      the Fact that <the Lotus menu command hierarchy> was a method of\n",
      "      operation\n",
      "    GIVEN:\n",
      "      the Fact that <Lotus 1-2-3> was a computer program\n",
      "      the Fact that <the Lotus menu command hierarchy> provided the means by\n",
      "      which users controlled and operated <Lotus 1-2-3>\n",
      "      the Fact that without <the Lotus menu command hierarchy>, users would\n",
      "      not have been able to access and control, or indeed make use of,\n",
      "      <Lotus 1-2-3>’s functional capabilities\n",
      "      the Fact that for another computer program to by operated in\n",
      "      substantially the same way as <Lotus 1-2-3>, the other program would\n",
      "      have to copy <the Lotus menu command hierarchy>\n",
      "    DESPITE:\n",
      "      the Fact that the developers of <Lotus 1-2-3> made some expressive\n",
      "      choices in choosing and arranging the terms in <the Lotus menu command\n",
      "      hierarchy>\n",
      "    GIVEN the ENACTMENT:\n",
      "      \"In no case does copyright protection for an original work of authorship extend to any…method of operation…\" (/us/usc/t17/s102/b 2013-07-18)\n"
     ]
    }
   ],
   "source": [
    "print(lotus.holdings[7])"
   ]
  },
  {
   "cell_type": "markdown",
   "metadata": {},
   "source": [
    "> We do not think that “methods of operation” are limited to abstractions; rather, they are the means by which a user operates something."
   ]
  },
  {
   "cell_type": "code",
   "execution_count": 59,
   "metadata": {},
   "outputs": [
    {
     "name": "stdout",
     "output_type": "stream",
     "text": [
      "the Holding to ACCEPT\n",
      "  the Rule that the court MAY SOMETIMES impose the\n",
      "    RESULT:\n",
      "      the Fact that <the Lotus menu command hierarchy> was a method of\n",
      "      operation\n",
      "    GIVEN:\n",
      "      the Fact that <the Lotus menu command hierarchy> was the means by\n",
      "      which a person operated <Lotus 1-2-3>\n",
      "    DESPITE:\n",
      "      the Fact it is false that <the Lotus menu command hierarchy> was an\n",
      "      abstraction\n",
      "    GIVEN the ENACTMENT:\n",
      "      \"In no case does copyright protection for an original work of authorship extend to any…method of operation…\" (/us/usc/t17/s102/b 2013-07-18)\n"
     ]
    }
   ],
   "source": [
    "print(lotus.holdings[8])"
   ]
  },
  {
   "cell_type": "markdown",
   "metadata": {},
   "source": [
    "> In other words, to offer the same capabilities as Lotus 1-2-3, Borland did not have to copy Lotus’s underlying code (and indeed it did not); to 'allow users to operate its programs in substantially the same way, however, Bor-land had to copy the Lotus menu command hierarchy. Thus the Lotus 1-2-3 code is not a uncopyrightable “method of operation.”"
   ]
  },
  {
   "cell_type": "code",
   "execution_count": 60,
   "metadata": {},
   "outputs": [
    {
     "name": "stdout",
     "output_type": "stream",
     "text": [
      "the Holding to ACCEPT\n",
      "  the Rule that the court MAY SOMETIMES impose the\n",
      "    RESULT:\n",
      "      the Fact it is false that <Lotus 1-2-3> was a method of operation\n",
      "    GIVEN:\n",
      "      the Fact that <Lotus 1-2-3> was a computer program\n",
      "      the Fact it is false that the precise formulation of <Lotus 1-2-3>'s\n",
      "      code was necessary for it to work\n",
      "    DESPITE:\n",
      "      the Fact that computer code was necessary for <Lotus 1-2-3> to work\n",
      "    GIVEN the ENACTMENT:\n",
      "      \"In no case does copyright protection for an original work of authorship extend to any…method of operation…\" (/us/usc/t17/s102/b 2013-07-18)\n"
     ]
    }
   ],
   "source": [
    "print(lotus.holdings[9])"
   ]
  },
  {
   "cell_type": "markdown",
   "metadata": {},
   "source": [
    "### *Oracle v. Google* 750 F.3d 1339 (2014)"
   ]
  },
  {
   "cell_type": "markdown",
   "metadata": {},
   "source": [
    "> By statute, a work must be “original” to qualify for copyright protection. 17 U.S.C. § 102(a)."
   ]
  },
  {
   "cell_type": "code",
   "execution_count": 61,
   "metadata": {},
   "outputs": [
    {
     "name": "stdout",
     "output_type": "stream",
     "text": [
      "the Holding to ACCEPT\n",
      "  the Rule that the court MUST SOMETIMES impose the\n",
      "    RESULT:\n",
      "      the Fact it is false that <the Java API> was copyrightable\n",
      "    GIVEN:\n",
      "      the Fact it is false that <the Java API> was an original work\n",
      "    GIVEN the ENACTMENT:\n",
      "      \"Copyright protection subsists, in accordance with this title, in original works of authorship fixed in any tangible medium of expression, now known or later developed, from which they can be perceived, reproduced, or otherwise communicated, either directly or with the aid of a machine or device.…\" (/us/usc/t17/s102/a 2013-07-18)\n"
     ]
    }
   ],
   "source": [
    "print(oracle.holdings[0])"
   ]
  },
  {
   "cell_type": "markdown",
   "metadata": {},
   "source": [
    "> Original, as the term is used in copyright, means only that the work was independently created by the author (as opposed to copied from other works), and that it possesses at least some minimal degree of creativity."
   ]
  },
  {
   "cell_type": "code",
   "execution_count": 62,
   "metadata": {},
   "outputs": [
    {
     "name": "stdout",
     "output_type": "stream",
     "text": [
      "the Holding to ACCEPT\n",
      "  the Rule that the court MUST ALWAYS impose the\n",
      "    RESULT:\n",
      "      the Fact that <the Java API> was an original work\n",
      "    GIVEN:\n",
      "      the Fact that <the Java API> was independently created by the author,\n",
      "      as opposed to copied from other works\n",
      "      the Fact that <the Java API> possessed at least some minimal degree of\n",
      "      creativity\n",
      "    GIVEN the ENACTMENT:\n",
      "      \"Copyright protection subsists, in accordance with this title, in original works of authorship fixed in any tangible medium of expression, now known or later developed, from which they can be perceived, reproduced, or otherwise communicated, either directly or with the aid of a machine or device.…\" (/us/usc/t17/s102/a 2013-07-18)\n"
     ]
    }
   ],
   "source": [
    "print(oracle.holdings[1])"
   ]
  },
  {
   "cell_type": "markdown",
   "metadata": {},
   "source": [
    "> Copyright protection extends only to the expression of an idea — not to the underlying idea itself...In the Ninth Circuit, while questions regarding originality are considered questions of copyrightability, concepts of merger and scenes a faire are affirmative defenses to claims of infringement."
   ]
  },
  {
   "cell_type": "code",
   "execution_count": 63,
   "metadata": {},
   "outputs": [
    {
     "name": "stdout",
     "output_type": "stream",
     "text": [
      "the Holding to ACCEPT\n",
      "  the Rule that the court MUST SOMETIMES impose the\n",
      "    RESULT:\n",
      "      the Fact that <the Java API> was copyrightable\n",
      "    GIVEN:\n",
      "      the Fact that <the Java API> was an original work\n",
      "      the Fact that <the Java API> was the expression of an idea\n",
      "      the Fact it is false that <the Java API> was an idea\n",
      "    DESPITE:\n",
      "      the Fact that <the Java API> was essentially the only way to express\n",
      "      the idea that it embodied\n",
      "      the Fact that <the Java API> was a scene a faire\n",
      "    GIVEN the ENACTMENT:\n",
      "      \"Copyright protection subsists, in accordance with this title, in original works of authorship fixed in any tangible medium of expression, now known or later developed, from which they can be perceived, reproduced, or otherwise communicated, either directly or with the aid of a machine or device.…\" (/us/usc/t17/s102/a 2013-07-18)\n",
      "    DESPITE the ENACTMENT:\n",
      "      \"In no case does copyright protection for an original work of authorship extend to any idea, procedure, process, system, method of operation, concept, principle, or discovery, regardless of the form in which it is described, explained, illustrated, or embodied in such work.\" (/us/usc/t17/s102/b 2013-07-18)\n"
     ]
    }
   ],
   "source": [
    "print(oracle.holdings[2])"
   ]
  },
  {
   "cell_type": "markdown",
   "metadata": {},
   "source": [
    "> The literal elements of a computer program are the source code and object code."
   ]
  },
  {
   "cell_type": "code",
   "execution_count": 64,
   "metadata": {},
   "outputs": [
    {
     "name": "stdout",
     "output_type": "stream",
     "text": [
      "the Holding to ACCEPT\n",
      "  the Rule that the court MUST ALWAYS impose the\n",
      "    RESULT:\n",
      "      the Fact that <the Java API> was a literal element of <the Java\n",
      "      language>\n",
      "    GIVEN:\n",
      "      the Fact that <the Java language> was a computer program\n",
      "      the Fact that <the Java API> was the source code of <the Java\n",
      "      language>\n",
      "    GIVEN the ENACTMENTS:\n",
      "      \"Copyright protection subsists, in accordance with this title, in original works of authorship fixed in any tangible medium of expression, now known or later developed, from which they can be perceived, reproduced, or otherwise communicated, either directly or with the aid of a machine or device.…\" (/us/usc/t17/s102/a 2013-07-18)\n",
      "      \"In no case does copyright protection for an original work of authorship extend to any idea, procedure, process, system, method of operation, concept, principle, or discovery, regardless of the form in which it is described, explained, illustrated, or embodied in such work.\" (/us/usc/t17/s102/b 2013-07-18)\n",
      "\n",
      "\n",
      "the Holding to ACCEPT\n",
      "  the Rule that the court MUST ALWAYS impose the\n",
      "    RESULT:\n",
      "      the Fact that <the Java API> was a literal element of <the Java\n",
      "      language>\n",
      "    GIVEN:\n",
      "      the Fact that <the Java language> was a computer program\n",
      "      the Fact that <the Java API> was the object code of <the Java\n",
      "      language>\n",
      "    GIVEN the ENACTMENTS:\n",
      "      \"Copyright protection subsists, in accordance with this title, in original works of authorship fixed in any tangible medium of expression, now known or later developed, from which they can be perceived, reproduced, or otherwise communicated, either directly or with the aid of a machine or device.…\" (/us/usc/t17/s102/a 2013-07-18)\n",
      "      \"In no case does copyright protection for an original work of authorship extend to any idea, procedure, process, system, method of operation, concept, principle, or discovery, regardless of the form in which it is described, explained, illustrated, or embodied in such work.\" (/us/usc/t17/s102/b 2013-07-18)\n"
     ]
    }
   ],
   "source": [
    "print(oracle.holdings[3])\n",
    "print(\"\\n\")\n",
    "print(oracle.holdings[4])"
   ]
  },
  {
   "cell_type": "markdown",
   "metadata": {},
   "source": [
    "> It is well established that copyright protection can extend to both literal and non-literal elements of a computer program. See Altai 982 F.2d at 702."
   ]
  },
  {
   "cell_type": "code",
   "execution_count": 65,
   "metadata": {},
   "outputs": [
    {
     "name": "stdout",
     "output_type": "stream",
     "text": [
      "the Holding to ACCEPT\n",
      "  the Rule that the court MUST SOMETIMES impose the\n",
      "    RESULT:\n",
      "      the Fact that <the Java API> was copyrightable\n",
      "    GIVEN:\n",
      "      the Fact that <the Java language> was a computer program\n",
      "      the Fact that <the Java API> was a literal element of <the Java\n",
      "      language>\n",
      "    GIVEN the ENACTMENT:\n",
      "      \"Copyright protection subsists, in accordance with this title, in original works of authorship fixed in any tangible medium of expression, now known or later developed, from which they can be perceived, reproduced, or otherwise communicated, either directly or with the aid of a machine or device.…\" (/us/usc/t17/s102/a 2013-07-18)\n",
      "    DESPITE the ENACTMENT:\n",
      "      \"In no case does copyright protection for an original work of authorship extend to any idea, procedure, process, system, method of operation, concept, principle, or discovery, regardless of the form in which it is described, explained, illustrated, or embodied in such work.\" (/us/usc/t17/s102/b 2013-07-18)\n"
     ]
    }
   ],
   "source": [
    "print(oracle.holdings[5])"
   ]
  },
  {
   "cell_type": "markdown",
   "metadata": {},
   "source": [
    "> The non-literal components of a computer program include, among other things, the program’s sequence, structure, and organization, as well as the program’s user interface."
   ]
  },
  {
   "cell_type": "code",
   "execution_count": 66,
   "metadata": {},
   "outputs": [
    {
     "name": "stdout",
     "output_type": "stream",
     "text": [
      "the Holding to ACCEPT\n",
      "  the Rule that the court MUST ALWAYS impose the\n",
      "    RESULT:\n",
      "      the Fact that <the Java API> was a non-literal element of <the Java\n",
      "      language>\n",
      "    GIVEN:\n",
      "      the Fact that <the Java language> was a computer program\n",
      "      the Fact that <the Java API> was the sequence, structure, and\n",
      "      organization of <the Java language>\n",
      "    GIVEN the ENACTMENTS:\n",
      "      \"Copyright protection subsists, in accordance with this title, in original works of authorship fixed in any tangible medium of expression, now known or later developed, from which they can be perceived, reproduced, or otherwise communicated, either directly or with the aid of a machine or device.…\" (/us/usc/t17/s102/a 2013-07-18)\n",
      "      \"In no case does copyright protection for an original work of authorship extend to any idea, procedure, process, system, method of operation, concept, principle, or discovery, regardless of the form in which it is described, explained, illustrated, or embodied in such work.\" (/us/usc/t17/s102/b 2013-07-18)\n",
      "\n",
      "\n",
      "the Holding to ACCEPT\n",
      "  the Rule that the court MUST ALWAYS impose the\n",
      "    RESULT:\n",
      "      the Fact that <the Java API> was a non-literal element of <the Java\n",
      "      language>\n",
      "    GIVEN:\n",
      "      the Fact that <the Java language> was a computer program\n",
      "      the Fact that <the Java API> was the user interface of <the Java\n",
      "      language>\n",
      "    GIVEN the ENACTMENTS:\n",
      "      \"Copyright protection subsists, in accordance with this title, in original works of authorship fixed in any tangible medium of expression, now known or later developed, from which they can be perceived, reproduced, or otherwise communicated, either directly or with the aid of a machine or device.…\" (/us/usc/t17/s102/a 2013-07-18)\n",
      "      \"In no case does copyright protection for an original work of authorship extend to any idea, procedure, process, system, method of operation, concept, principle, or discovery, regardless of the form in which it is described, explained, illustrated, or embodied in such work.\" (/us/usc/t17/s102/b 2013-07-18)\n"
     ]
    }
   ],
   "source": [
    "print(oracle.holdings[6])\n",
    "print(\"\\n\")\n",
    "print(oracle.holdings[7])"
   ]
  },
  {
   "cell_type": "markdown",
   "metadata": {},
   "source": [
    "> It is well established that copyright protection can extend to both literal and non-literal elements of a computer program...As discussed below, whether the non-literal elements of a program “are protected depends on whether, on the particular facts of each case, the component in question qualifies as an expression of an idea, or an idea itself.”"
   ]
  },
  {
   "cell_type": "code",
   "execution_count": 67,
   "metadata": {},
   "outputs": [
    {
     "name": "stdout",
     "output_type": "stream",
     "text": [
      "the Holding to ACCEPT\n",
      "  the Rule that the court MUST SOMETIMES impose the\n",
      "    RESULT:\n",
      "      the Fact that <the Java API> was copyrightable\n",
      "    GIVEN:\n",
      "      the Fact that <the Java language> was a computer program\n",
      "      the Fact that <the Java API> was a non-literal element of <the Java\n",
      "      language>\n",
      "      the Fact that <the Java API> was the expression of an idea\n",
      "      the Fact it is false that <the Java API> was an idea\n",
      "    GIVEN the ENACTMENT:\n",
      "      \"Copyright protection subsists, in accordance with this title, in original works of authorship fixed in any tangible medium of expression, now known or later developed, from which they can be perceived, reproduced, or otherwise communicated, either directly or with the aid of a machine or device.…\" (/us/usc/t17/s102/a 2013-07-18)\n",
      "    DESPITE the ENACTMENT:\n",
      "      \"In no case does copyright protection for an original work of authorship extend to any idea, procedure, process, system, method of operation, concept, principle, or discovery, regardless of the form in which it is described, explained, illustrated, or embodied in such work.\" (/us/usc/t17/s102/b 2013-07-18)\n",
      "\n",
      "\n",
      "the Holding to ACCEPT\n",
      "  the Rule that the court MUST SOMETIMES impose the\n",
      "    RESULT:\n",
      "      the Fact it is false that <the Java API> was copyrightable\n",
      "    GIVEN:\n",
      "      the Fact that <the Java language> was a computer program\n",
      "      the Fact that <the Java API> was a non-literal element of <the Java\n",
      "      language>\n",
      "      the Fact it is false that <the Java API> was the expression of an idea\n",
      "      the Fact that <the Java API> was an idea\n",
      "    GIVEN the ENACTMENT:\n",
      "      \"In no case does copyright protection for an original work of authorship extend to any idea, procedure, process, system, method of operation, concept, principle, or discovery, regardless of the form in which it is described, explained, illustrated, or embodied in such work.\" (/us/usc/t17/s102/b 2013-07-18)\n",
      "    DESPITE the ENACTMENT:\n",
      "      \"Copyright protection subsists, in accordance with this title, in original works of authorship fixed in any tangible medium of expression, now known or later developed, from which they can be perceived, reproduced, or otherwise communicated, either directly or with the aid of a machine or device.…\" (/us/usc/t17/s102/a 2013-07-18)\n"
     ]
    }
   ],
   "source": [
    "print(oracle.holdings[8])\n",
    "print(\"\\n\")\n",
    "print(oracle.holdings[9])"
   ]
  },
  {
   "cell_type": "markdown",
   "metadata": {},
   "source": [
    "> On appeal, Oracle argues that the district court’s reliance on Lotus is misplaced because it is distinguishable on its facts and is inconsistent with Ninth Circuit law. We agree. First, while the defendant in Lotus did not copy any of the underlying code, Google concedes that it copied portions of Oracle’s declaring source code verbatim. Second, the Lotus court found that the commands at issue there (copy, print, etc.) were not creative, but it is undisputed here that the declaring code and the structure and organization of the API packages are both creative and original. Finally, while the court in Lotus found the commands at issue were “essential to operating” the system, it is undisputed that— other than perhaps as to the three core packages — Google did not need to copy the structure, sequence, and organization of the Java API packages to write programs in the Java language.\\nMore importantly, however, the Ninth Circuit has not adopted the court’s “method of operation” reasoning in Lotus, and we conclude that it is inconsistent with binding precedent."
   ]
  },
  {
   "cell_type": "code",
   "execution_count": 68,
   "metadata": {},
   "outputs": [
    {
     "name": "stdout",
     "output_type": "stream",
     "text": [
      "the Holding to ACCEPT\n",
      "  the Rule that the court MUST SOMETIMES impose the\n",
      "    RESULT:\n",
      "      the Fact that <the Java API> was copyrightable\n",
      "    GIVEN:\n",
      "      the Fact that <the Java language> was a computer program\n",
      "      the Fact that <the Java API> was a set of application programming\n",
      "      interface declarations\n",
      "      the Fact that <the Java API> was an original work\n",
      "      the Fact that <the Java API> was a non-literal element of <the Java\n",
      "      language>\n",
      "      the Fact that <the Java API> was the expression of an idea\n",
      "      the Fact it is false that <the Java API> was essentially the only way\n",
      "      to express the idea that it embodied\n",
      "      the Fact that <the Java API> was creative\n",
      "      the Fact that it was possible to use <the Java language> without\n",
      "      copying <the Java API>\n",
      "    DESPITE:\n",
      "      the Fact that <the Java API> was a method of operation\n",
      "      the Fact that <the Java API> contained short phrases\n",
      "      the Fact that <the Java API> became so popular that it was the\n",
      "      industry standard\n",
      "      the Fact that there was a preexisting community of programmers\n",
      "      accustomed to using <the Java API>\n",
      "    GIVEN the ENACTMENT:\n",
      "      \"Copyright protection subsists, in accordance with this title, in original works of authorship fixed in any tangible medium of expression, now known or later developed, from which they can be perceived, reproduced, or otherwise communicated, either directly or with the aid of a machine or device.…\" (/us/usc/t17/s102/a 2013-07-18)\n",
      "    DESPITE the ENACTMENTS:\n",
      "      \"In no case does copyright protection for an original work of authorship extend to any…method of operation…\" (/us/usc/t17/s102/b 2013-07-18)\n",
      "      \"The following are examples of works not subject to copyright and applications for registration of such works cannot be entertained: Words and short phrases such as names, titles, and slogans; familiar symbols or designs; mere variations of typographic ornamentation, lettering or coloring; mere listing of ingredients or contents; Ideas, plans, methods, systems, or devices, as distinguished from the particular manner in which they are expressed or described in a writing;  Blank forms, such as time cards, graph paper, account books, diaries, bank checks, scorecards, address books, report forms, order forms and the like, which are designed for recording information and do not in themselves convey information; Works consisting entirely of information that is common property containing no original authorship, such as, for example: Standard calendars, height and weight charts, tape measures and rulers, schedules of sporting events, and lists or tables taken from public documents or other common sources. Typeface as typeface.\" (/us/cfr/t37/s202.1 1992-02-21)\n"
     ]
    }
   ],
   "source": [
    "print(oracle.holdings[10])"
   ]
  },
  {
   "cell_type": "markdown",
   "metadata": {},
   "source": [
    "> In the Ninth Circuit, while questions regarding originality are considered questions of copyrightability, concepts of merger and scenes a faire are affirmative defenses to claims of infringement."
   ]
  },
  {
   "cell_type": "code",
   "execution_count": 69,
   "metadata": {},
   "outputs": [
    {
     "name": "stdout",
     "output_type": "stream",
     "text": [
      "the Holding to ACCEPT\n",
      "  the Rule that the court MUST SOMETIMES impose the\n",
      "    RESULT:\n",
      "      the Fact it is false that <Google> infringed the copyright on <the\n",
      "      Java API>\n",
      "    GIVEN:\n",
      "      the Fact that <the Java API> was a scene a faire\n",
      "    DESPITE:\n",
      "      the Fact that <the Java API> was copyrightable\n",
      "    GIVEN the ENACTMENT:\n",
      "      \"In no case does copyright protection for an original work of authorship extend to any idea, procedure, process, system, method of operation, concept, principle, or discovery, regardless of the form in which it is described, explained, illustrated, or embodied in such work.\" (/us/usc/t17/s102/b 2013-07-18)\n",
      "    DESPITE the ENACTMENT:\n",
      "      \"Copyright protection subsists, in accordance with this title, in original works of authorship fixed in any tangible medium of expression, now known or later developed, from which they can be perceived, reproduced, or otherwise communicated, either directly or with the aid of a machine or device.…\" (/us/usc/t17/s102/a 2013-07-18)\n"
     ]
    }
   ],
   "source": [
    "print(oracle.holdings[11])"
   ]
  },
  {
   "cell_type": "markdown",
   "metadata": {},
   "source": [
    "> In the Ninth Circuit, while questions regarding originality are considered questions of copyrightability, concepts of merger and scenes a faire are affirmative defenses to claims of infringement...Under the merger doctrine, a court will not protect a copyrighted work from infringement if the idea contained therein can be expressed in only one way."
   ]
  },
  {
   "cell_type": "code",
   "execution_count": 70,
   "metadata": {},
   "outputs": [
    {
     "name": "stdout",
     "output_type": "stream",
     "text": [
      "the Holding to ACCEPT\n",
      "  the Rule that the court MUST SOMETIMES impose the\n",
      "    RESULT:\n",
      "      the Fact it is false that <Google> infringed the copyright on <the\n",
      "      Java API>\n",
      "    GIVEN:\n",
      "      the Fact that <the Java API> was essentially the only way to express\n",
      "      the idea that it embodied\n",
      "    DESPITE:\n",
      "      the Fact that <the Java API> was copyrightable\n",
      "    GIVEN the ENACTMENT:\n",
      "      \"In no case does copyright protection for an original work of authorship extend to any idea, procedure, process, system, method of operation, concept, principle, or discovery, regardless of the form in which it is described, explained, illustrated, or embodied in such work.\" (/us/usc/t17/s102/b 2013-07-18)\n",
      "    DESPITE the ENACTMENT:\n",
      "      \"Copyright protection subsists, in accordance with this title, in original works of authorship fixed in any tangible medium of expression, now known or later developed, from which they can be perceived, reproduced, or otherwise communicated, either directly or with the aid of a machine or device.…\" (/us/usc/t17/s102/a 2013-07-18)\n",
      "\n",
      "\n",
      "the Holding to ACCEPT\n",
      "  the Rule that the court MUST SOMETIMES impose the\n",
      "    RESULT:\n",
      "      the Fact that <Google> infringed the copyright on <the Java API>\n",
      "    GIVEN:\n",
      "      the Fact that <the Java API> was copyrightable\n",
      "      absence of the Fact that <the Java API> was essentially the only way\n",
      "      to express the idea that it embodied\n",
      "      absence of the Fact that <the Java API> was a scene a faire\n",
      "    GIVEN the ENACTMENT:\n",
      "      \"In no case does copyright protection for an original work of authorship extend to any idea, procedure, process, system, method of operation, concept, principle, or discovery, regardless of the form in which it is described, explained, illustrated, or embodied in such work.\" (/us/usc/t17/s102/b 2013-07-18)\n",
      "    DESPITE the ENACTMENT:\n",
      "      \"Copyright protection subsists, in accordance with this title, in original works of authorship fixed in any tangible medium of expression, now known or later developed, from which they can be perceived, reproduced, or otherwise communicated, either directly or with the aid of a machine or device.…\" (/us/usc/t17/s102/a 2013-07-18)\n"
     ]
    }
   ],
   "source": [
    "print(oracle.holdings[12])\n",
    "print(\"\\n\")\n",
    "print(oracle.holdings[13])"
   ]
  },
  {
   "cell_type": "markdown",
   "metadata": {},
   "source": [
    "#### A Missing Holding\n",
    "\n",
    "The following text represents a rule posited by the Oracle court, but it's not currently possible to create a corresponding Holding object, because AuthoritySpoke doesn't yet include \"Argument\" objects.\n",
    "\n",
    "> Google responds that Oracle waived its right to assert copyrightability based on the 7,000 lines of declaring code by failing “to object to instructions and a verdict form that effectively eliminated that theory from the case.” Appellee Br. 67...We find that Oracle did not waive arguments based on Google’s literal copying of the declaring code."
   ]
  },
  {
   "cell_type": "markdown",
   "metadata": {},
   "source": [
    "> Regardless of when the analysis occurs, we conclude that merger does not apply on the record before us...We have recognized, however, applying Ninth Circuit law, that the “unique arrangement of computer program expression ... does not merge with the process so long as alternate expressions are available.”...The evidence showed that Oracle had “unlimited options as to the selection and arrangement of the 7000 lines Google copied.”...This was not a situation where Oracle was selecting among preordained names and phrases to create its packages."
   ]
  },
  {
   "cell_type": "code",
   "execution_count": 71,
   "metadata": {},
   "outputs": [
    {
     "name": "stdout",
     "output_type": "stream",
     "text": [
      "the Holding to ACCEPT\n",
      "  the Rule that the court MUST SOMETIMES impose the\n",
      "    RESULT:\n",
      "      the Fact it is false that <the Java API> was essentially the only way\n",
      "      to express the idea that it embodied\n",
      "    GIVEN:\n",
      "      the Fact that <Sun Microsystems> created <the Java API>\n",
      "      the Fact that when creating <the Java API>, <Sun Microsystems> could\n",
      "      have selected and arranged its names and phrases in unlimited\n",
      "      different ways\n",
      "    GIVEN the ENACTMENT:\n",
      "      \"Copyright protection subsists, in accordance with this title, in original works of authorship fixed in any tangible medium of expression, now known or later developed, from which they can be perceived, reproduced, or otherwise communicated, either directly or with the aid of a machine or device.…\" (/us/usc/t17/s102/a 2013-07-18)\n",
      "    DESPITE the ENACTMENT:\n",
      "      \"In no case does copyright protection for an original work of authorship extend to any idea, procedure, process, system, method of operation, concept, principle, or discovery, regardless of the form in which it is described, explained, illustrated, or embodied in such work.\" (/us/usc/t17/s102/b 2013-07-18)\n"
     ]
    }
   ],
   "source": [
    "print(oracle.holdings[14])"
   ]
  },
  {
   "cell_type": "markdown",
   "metadata": {},
   "source": [
    "> the relevant question for copyright-ability purposes is not whether the work at issue contains short phrases — as literary works often do — but, rather, whether those phrases are creative."
   ]
  },
  {
   "cell_type": "code",
   "execution_count": 72,
   "metadata": {},
   "outputs": [
    {
     "name": "stdout",
     "output_type": "stream",
     "text": [
      "the Holding to ACCEPT\n",
      "  the Rule that the court MUST SOMETIMES impose the\n",
      "    RESULT:\n",
      "      the Fact that <the Java API> was copyrightable\n",
      "    GIVEN:\n",
      "      the Fact that <the Java API> was a literary work\n",
      "      the Fact that the short phrases in <the Java API> was creative\n",
      "    DESPITE:\n",
      "      the Fact that <the Java API> contained short phrases\n",
      "    GIVEN the ENACTMENT:\n",
      "      \"Copyright protection subsists, in accordance with this title, in original works of authorship fixed in any tangible medium of expression, now known or later developed, from which they can be perceived, reproduced, or otherwise communicated, either directly or with the aid of a machine or device.…\" (/us/usc/t17/s102/a 2013-07-18)\n",
      "    DESPITE the ENACTMENTS:\n",
      "      \"In no case does copyright protection for an original work of authorship extend to any idea, procedure, process, system, method of operation, concept, principle, or discovery, regardless of the form in which it is described, explained, illustrated, or embodied in such work.\" (/us/usc/t17/s102/b 2013-07-18)\n",
      "      \"The following are examples of works not subject to copyright and applications for registration of such works cannot be entertained: Words and short phrases such as names, titles, and slogans; familiar symbols or designs; mere variations of typographic ornamentation, lettering or coloring; mere listing of ingredients or contents; Ideas, plans, methods, systems, or devices, as distinguished from the particular manner in which they are expressed or described in a writing;  Blank forms, such as time cards, graph paper, account books, diaries, bank checks, scorecards, address books, report forms, order forms and the like, which are designed for recording information and do not in themselves convey information; Works consisting entirely of information that is common property containing no original authorship, such as, for example: Standard calendars, height and weight charts, tape measures and rulers, schedules of sporting events, and lists or tables taken from public documents or other common sources. Typeface as typeface.\" (/us/cfr/t37/s202.1 1992-02-21)\n"
     ]
    }
   ],
   "source": [
    "print(oracle.holdings[15])"
   ]
  },
  {
   "cell_type": "markdown",
   "metadata": {},
   "source": [
    "> In the computer context, “the scene a faire doctrine denies protection to program elements that are dictated by external factors such as ‘the mechanical specifications of the computer on which a particular program is intended to run’ or ‘widely accepted programming practices within the computer industry. Like merger, the focus of the scenes a faire doctrine is on the circumstances presented to the creator, not the copier."
   ]
  },
  {
   "cell_type": "code",
   "execution_count": 73,
   "metadata": {},
   "outputs": [
    {
     "name": "stdout",
     "output_type": "stream",
     "text": [
      "the Holding to ACCEPT\n",
      "  the Rule that the court MAY SOMETIMES impose the\n",
      "    RESULT:\n",
      "      the Fact that <the Java API> was a scene a faire\n",
      "    GIVEN:\n",
      "      the Fact that <the Java language> was a computer program\n",
      "      the Fact that <the Java API> was an element of <the Java language>\n",
      "      the Fact that the creation of <the Java API> was dictated by external\n",
      "      factors such as the mechanical specifications of the computer on which\n",
      "      <the Java language> was intended to run or widely accepted programming\n",
      "      practices within the computer industry\n",
      "    GIVEN the ENACTMENT:\n",
      "      \"In no case does copyright protection for an original work of authorship extend to any idea, procedure, process, system, method of operation, concept, principle, or discovery, regardless of the form in which it is described, explained, illustrated, or embodied in such work.\" (/us/usc/t17/s102/b 2013-07-18)\n",
      "    DESPITE the ENACTMENT:\n",
      "      \"Copyright protection subsists, in accordance with this title, in original works of authorship fixed in any tangible medium of expression, now known or later developed, from which they can be perceived, reproduced, or otherwise communicated, either directly or with the aid of a machine or device.…\" (/us/usc/t17/s102/a 2013-07-18)\n"
     ]
    }
   ],
   "source": [
    "print(oracle.holdings[16])"
   ]
  },
  {
   "cell_type": "markdown",
   "metadata": {},
   "source": [
    "> Specifically, we find that Lotus is inconsistent with Ninth Circuit case law recognizing that the structure, sequence, and organization of a computer program is eligible for copyright protection where it qualifies as an expression of an idea, rather than the idea itself."
   ]
  },
  {
   "cell_type": "code",
   "execution_count": 74,
   "metadata": {},
   "outputs": [
    {
     "name": "stdout",
     "output_type": "stream",
     "text": [
      "the Holding to ACCEPT\n",
      "  the Rule that the court MAY SOMETIMES impose the\n",
      "    RESULT:\n",
      "      the Fact that <the Java API> was copyrightable\n",
      "    GIVEN:\n",
      "      the Fact that <the Java language> was a computer program\n",
      "      the Fact that <the Java API> was the structure, sequence, and\n",
      "      organization of <the Java language>\n",
      "      the Fact that <the Java API> was the expression of an idea\n",
      "      the Fact it is false that <the Java API> was an idea\n",
      "    GIVEN the ENACTMENT:\n",
      "      \"Copyright protection subsists, in accordance with this title, in original works of authorship fixed in any tangible medium of expression, now known or later developed, from which they can be perceived, reproduced, or otherwise communicated, either directly or with the aid of a machine or device.…\" (/us/usc/t17/s102/a 2013-07-18)\n",
      "    DESPITE the ENACTMENT:\n",
      "      \"In no case does copyright protection for an original work of authorship extend to any idea, procedure, process, system, method of operation, concept, principle, or discovery, regardless of the form in which it is described, explained, illustrated, or embodied in such work.\" (/us/usc/t17/s102/b 2013-07-18)\n"
     ]
    }
   ],
   "source": [
    "print(oracle.holdings[17])"
   ]
  },
  {
   "cell_type": "markdown",
   "metadata": {},
   "source": [
    "> an original work — even one that serves a function — is entitled to copyright protection as long as the author had multiple ways to express the underlying idea. Section 102(b) does not, as Google seems to suggest, automatically deny copyright protection to elements of a computer program that are functional."
   ]
  },
  {
   "cell_type": "code",
   "execution_count": 75,
   "metadata": {},
   "outputs": [
    {
     "name": "stdout",
     "output_type": "stream",
     "text": [
      "the Holding to ACCEPT\n",
      "  the Rule that the court MUST ALWAYS impose the\n",
      "    RESULT:\n",
      "      the Fact that <the Java API> was copyrightable\n",
      "    GIVEN:\n",
      "      the Fact that <the Java API> was an original work\n",
      "      the Fact that <Sun Microsystems> was the author of <the Java API>\n",
      "      the Fact that when creating <the Java API>, <Sun Microsystems> had\n",
      "      multiple ways to express its underlying idea\n",
      "    DESPITE:\n",
      "      the Fact that <the Java API> served a function\n",
      "    GIVEN the ENACTMENT:\n",
      "      \"Copyright protection subsists, in accordance with this title, in original works of authorship fixed in any tangible medium of expression, now known or later developed, from which they can be perceived, reproduced, or otherwise communicated, either directly or with the aid of a machine or device.…\" (/us/usc/t17/s102/a 2013-07-18)\n",
      "    DESPITE the ENACTMENT:\n",
      "      \"In no case does copyright protection for an original work of authorship extend to any idea, procedure, process, system, method of operation, concept, principle, or discovery, regardless of the form in which it is described, explained, illustrated, or embodied in such work.\" (/us/usc/t17/s102/b 2013-07-18)\n"
     ]
    }
   ],
   "source": [
    "print(oracle.holdings[18])"
   ]
  },
  {
   "cell_type": "markdown",
   "metadata": {},
   "source": [
    "> Until either the Supreme Court or Congress tells us otherwise, we are bound to respect the Ninth Circuit’s decision to afford software programs protection under the copyright laws. We thus decline any invitation to declare that protection of software programs should be the domain of patent law, and only patent law."
   ]
  },
  {
   "cell_type": "code",
   "execution_count": 76,
   "metadata": {},
   "outputs": [
    {
     "name": "stdout",
     "output_type": "stream",
     "text": [
      "the Holding to ACCEPT\n",
      "  the Rule that the court MAY SOMETIMES impose the\n",
      "    RESULT:\n",
      "      the Fact that <the Java language> was copyrightable\n",
      "    GIVEN:\n",
      "      the Fact that <the Java language> was a computer program\n",
      "    GIVEN the ENACTMENT:\n",
      "      \"Copyright protection subsists, in accordance with this title, in original works of authorship fixed in any tangible medium of expression, now known or later developed, from which they can be perceived, reproduced, or otherwise communicated, either directly or with the aid of a machine or device.…\" (/us/usc/t17/s102/a 2013-07-18)\n",
      "    DESPITE the ENACTMENT:\n",
      "      \"In no case does copyright protection for an original work of authorship extend to any idea, procedure, process, system, method of operation, concept, principle, or discovery, regardless of the form in which it is described, explained, illustrated, or embodied in such work.\" (/us/usc/t17/s102/b 2013-07-18)\n"
     ]
    }
   ],
   "source": [
    "print(oracle.holdings[19])"
   ]
  }
 ],
 "metadata": {
  "kernelspec": {
   "display_name": "authorityspoke",
   "language": "python",
   "name": "authorityspoke"
  },
  "language_info": {
   "codemirror_mode": {
    "name": "ipython",
    "version": 3
   },
   "file_extension": ".py",
   "mimetype": "text/x-python",
   "name": "python",
   "nbconvert_exporter": "python",
   "pygments_lexer": "ipython3",
   "version": "3.8.4"
  }
 },
 "nbformat": 4,
 "nbformat_minor": 4
}
