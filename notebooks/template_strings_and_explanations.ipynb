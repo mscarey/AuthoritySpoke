{
 "cells": [
  {
   "cell_type": "markdown",
   "metadata": {},
   "source": [
    "# Using Python Template Strings to Represent Legal Explanations"
   ]
  },
  {
   "cell_type": "markdown",
   "metadata": {},
   "source": [
    "The AuthoritySpoke library provides you with Python classes that you can use to represent a limited subset of English statements, so you can create smart annotations representing aspects of legal reasoning and factfinding. The interface for creating these phrases is similar to [Predicate logic](https://en.wikipedia.org/wiki/Category:Predicate_logic): it includes a Predicate, which is like a partial sentence with blank spaces marked by placeholders. The placeholders can be replaced by nouns that become the subjects or objects of this potential sentence. \n",
    "\n",
    "I chose to implement this feature with [template strings](https://docs.python.org/3/library/string.html#string.Template) instead of Python's more powerful methods for inserting data into text strings, such as f-strings or the `.format()` method. The reason was that template strings' relative lack of versatility makes them more predictable and less bug-prone. Template strings don't execute any code when they run, so they present less of a security problem and they can be used with untrusted user-generated data."
   ]
  },
  {
   "cell_type": "markdown",
   "metadata": {},
   "source": [
    "## Predicate objects"
   ]
  },
  {
   "cell_type": "markdown",
   "metadata": {},
   "source": [
    "Here's an example of a template string used to create a Predicate object in AuthoritySpoke version 0.5:"
   ]
  },
  {
   "cell_type": "code",
   "execution_count": 1,
   "metadata": {},
   "outputs": [],
   "source": [
    "from authorityspoke import Predicate\n",
    "\n",
    "parent_sentence = Predicate(\"$mother was ${child}'s parent\")"
   ]
  },
  {
   "cell_type": "markdown",
   "metadata": {},
   "source": [
    "The phrase that we passed to the Predicate constructor is used to create a Python template string. [Template strings](https://docs.python.org/3/library/string.html#string.Template) are part of the Python standard library. The dollar signs and curly brackets are special symbols used to indicate placeholders in Python's template string syntax.\n",
    "\n",
    "Here's an example of what happens when you provide a template string with a mapping showing how to replace the placeholders with new text."
   ]
  },
  {
   "cell_type": "code",
   "execution_count": 2,
   "metadata": {},
   "outputs": [
    {
     "data": {
      "text/plain": [
       "\"Ann was Bob's parent\""
      ]
     },
     "execution_count": 2,
     "metadata": {},
     "output_type": "execute_result"
    }
   ],
   "source": [
    "parent_sentence.template.substitute(mother=\"Ann\", child=\"Bob\")"
   ]
  },
  {
   "cell_type": "markdown",
   "metadata": {},
   "source": [
    "Don't worry: the use of the past tense doesn't indicate that a tragedy has befallen Ann or Bob. The Predicate class is designed to be used only with an English-language phrase in the past tense. The past tense is used because legal analysis is usually backward-looking, determining the legal effect of past acts or past conditions. Don't use capitalization or end punctuation to signal the beginning or end of the phrase, because the phrase may be used in a context where it's only part of a longer sentence.\n",
    "\n",
    "Predicates can be compared using AuthoritySpoke's `.means()`, `.implies()`, and `.contradicts()` methods. The `means` method checks whether one Predicate has the same meaning as another Predicate. One reason for comparing Predicates using the `means` method instead of Python's `==` operator is that the `means` method can still consider Predicates to have the same meaning even if they use different identifiers for their placeholders."
   ]
  },
  {
   "cell_type": "code",
   "execution_count": 3,
   "metadata": {},
   "outputs": [
    {
     "data": {
      "text/plain": [
       "False"
      ]
     },
     "execution_count": 3,
     "metadata": {},
     "output_type": "execute_result"
    }
   ],
   "source": [
    "another_parent_sentence = Predicate(\"$adult was ${kid}'s parent\")\n",
    "parent_sentence.template == another_parent_sentence.template"
   ]
  },
  {
   "cell_type": "code",
   "execution_count": 4,
   "metadata": {},
   "outputs": [
    {
     "data": {
      "text/plain": [
       "True"
      ]
     },
     "execution_count": 4,
     "metadata": {},
     "output_type": "execute_result"
    }
   ],
   "source": [
    "another_parent_sentence.means(parent_sentence)"
   ]
  },
  {
   "cell_type": "markdown",
   "metadata": {},
   "source": [
    "You can also add a `truth` attribute to a Predicate to indicate whether the statement described by the template is considered true or false. AuthoritySpoke can then use that attribute to evaluate relationships between the truth values of different Predicates with the same template text. If you omit a `truth` parameter when creating a Predicate, the default value is `True`."
   ]
  },
  {
   "cell_type": "code",
   "execution_count": 5,
   "metadata": {},
   "outputs": [
    {
     "data": {
      "text/plain": [
       "\"it was false that $adult was ${kid}'s parent\""
      ]
     },
     "execution_count": 5,
     "metadata": {},
     "output_type": "execute_result"
    }
   ],
   "source": [
    "not_parent_sentence = Predicate(\"$adult was ${kid}'s parent\", truth=False)\n",
    "str(not_parent_sentence)"
   ]
  },
  {
   "cell_type": "code",
   "execution_count": 6,
   "metadata": {},
   "outputs": [
    {
     "data": {
      "text/plain": [
       "False"
      ]
     },
     "execution_count": 6,
     "metadata": {},
     "output_type": "execute_result"
    }
   ],
   "source": [
    "parent_sentence.means(not_parent_sentence)"
   ]
  },
  {
   "cell_type": "code",
   "execution_count": 7,
   "metadata": {},
   "outputs": [
    {
     "data": {
      "text/plain": [
       "True"
      ]
     },
     "execution_count": 7,
     "metadata": {},
     "output_type": "execute_result"
    }
   ],
   "source": [
    "parent_sentence.contradicts(not_parent_sentence)"
   ]
  },
  {
   "cell_type": "markdown",
   "metadata": {},
   "source": [
    "In the `parent_sentence` example above, there are really two different placeholder formats. The first placeholder, `mother`, is just preceded by a dollar sign. The second placeholder, `child`, is preceded by a dollar sign and an open curly bracket, and followed by a closed curly bracket. These formats aren't specific to AuthoritySpoke; they're part of the Python standard library. The difference is that the format with just the dollar sign can only be used for a placeholder that is surrounded by whitespace. If the placeholder is next to some other character, like an apostrophe, then you need to use the \"braced\" format with the curly brackets. The placeholders themselves need to be valid Python identifiers, which means they can only be made up of letters, numbers, and underscores, and they can't start with a number. Docassemble users might already be familiar with these rules, since Docassemble variables also have to be Python identifiers. Check out Docassemble's documentation for more [guidance on creating valid Python identifiers](https://docassemble.org/docs/fields.html#variable%20names)."
   ]
  },
  {
   "cell_type": "markdown",
   "metadata": {},
   "source": [
    "## Comparison objects"
   ]
  },
  {
   "cell_type": "markdown",
   "metadata": {},
   "source": [
    "AuthoritySpoke's `Comparison` class extends the concept of a `Predicate`. A `Comparison` still contains a `truth` value and a `template` string, but that template should be used to identify a quantity that will be compared to an `expression` using a `sign` such as an equal sign or a greater-than sign. This `expression` must be a constant: either an integer, a floating point number, a date, or a physical quantity expressed in units that can be parsed using the [pint library](https://pint.readthedocs.io/en/stable/defining-quantities.html#using-string-parsing). To encourage consistent phrasing, the template string in every Comparison object must end with the word \"was\". AuthoritySpoke will then build the rest of the phrase using the comparison sign and expression that you provide."
   ]
  },
  {
   "cell_type": "markdown",
   "metadata": {},
   "source": [
    "### Comparisons with Measurements and Units"
   ]
  },
  {
   "cell_type": "markdown",
   "metadata": {},
   "source": [
    "To use a measurement as a Comparison's `expression`, pass the measurement as a string when constructing the Comparison object, and it will be converted to a `pint` object."
   ]
  },
  {
   "cell_type": "code",
   "execution_count": 8,
   "metadata": {},
   "outputs": [
    {
     "data": {
      "text/plain": [
       "'that the weight of marijuana that $defendant possessed was at least 0.5 kilogram'"
      ]
     },
     "execution_count": 8,
     "metadata": {},
     "output_type": "execute_result"
    }
   ],
   "source": [
    "from authorityspoke import Comparison\n",
    "drug_comparison = Comparison(\n",
    "    \"the weight of marijuana that $defendant possessed was\", \n",
    "    sign=\">=\", \n",
    "    expression=\"0.5 kilograms\"\n",
    ")\n",
    "str(drug_comparison)"
   ]
  },
  {
   "cell_type": "markdown",
   "metadata": {},
   "source": [
    "(The pint library always uses singular nouns for units like \"kilogram\", when rendering them as text.)\n",
    "\n",
    "By making the quantitative part of the phrase explicit, you make it possible for AuthoritySpoke to consider quantities when checking whether one Comparison implies or contradicts another."
   ]
  },
  {
   "cell_type": "code",
   "execution_count": 9,
   "metadata": {},
   "outputs": [
    {
     "data": {
      "text/plain": [
       "'that the weight of marijuana that $defendant possessed was at least 250 gram'"
      ]
     },
     "execution_count": 9,
     "metadata": {},
     "output_type": "execute_result"
    }
   ],
   "source": [
    "smaller_drug_comparison = Comparison(\n",
    "    \"the weight of marijuana that $defendant possessed was\", \n",
    "    sign=\">=\", \n",
    "    expression=\"250 grams\"\n",
    ")\n",
    "str(smaller_drug_comparison)"
   ]
  },
  {
   "cell_type": "markdown",
   "metadata": {},
   "source": [
    "AuthoritySpoke will understand that if the weight was at least 0.5 kilograms, that implies it was also at least 250 grams."
   ]
  },
  {
   "cell_type": "code",
   "execution_count": 10,
   "metadata": {},
   "outputs": [
    {
     "data": {
      "text/plain": [
       "True"
      ]
     },
     "execution_count": 10,
     "metadata": {},
     "output_type": "execute_result"
    }
   ],
   "source": [
    "drug_comparison.implies(smaller_drug_comparison)"
   ]
  },
  {
   "cell_type": "markdown",
   "metadata": {},
   "source": [
    "If you phrase a Comparison with an inequality sign using `truth=False`, AuthoritySpoke will silently modify your statement so it can have `truth=True` with a different sign. In this example, the user's input indicates that it's false that the weight of the marijuana was more than 10 grams. AuthoritySpoke interprets this to mean it's true that the weight was no more than 10 grams."
   ]
  },
  {
   "cell_type": "code",
   "execution_count": 11,
   "metadata": {},
   "outputs": [],
   "source": [
    "drug_comparison_with_upper_bound = Comparison(\n",
    "    \"the weight of marijuana that $defendant possessed was\", \n",
    "    sign=\">\", \n",
    "    expression=\"10 grams\",\n",
    "    truth=False\n",
    ")"
   ]
  },
  {
   "cell_type": "code",
   "execution_count": 12,
   "metadata": {},
   "outputs": [
    {
     "data": {
      "text/plain": [
       "'that the weight of marijuana that $defendant possessed was no more than 10 gram'"
      ]
     },
     "execution_count": 12,
     "metadata": {},
     "output_type": "execute_result"
    }
   ],
   "source": [
    "str(drug_comparison_with_upper_bound)"
   ]
  },
  {
   "cell_type": "markdown",
   "metadata": {},
   "source": [
    "Of course, this Comparison contradicts the other Comparisons that asserted the weight was much greater."
   ]
  },
  {
   "cell_type": "code",
   "execution_count": 13,
   "metadata": {},
   "outputs": [
    {
     "data": {
      "text/plain": [
       "True"
      ]
     },
     "execution_count": 13,
     "metadata": {},
     "output_type": "execute_result"
    }
   ],
   "source": [
    "drug_comparison_with_upper_bound.contradicts(drug_comparison)"
   ]
  },
  {
   "cell_type": "markdown",
   "metadata": {},
   "source": [
    "The unit that the Comparison parses doesn't have to be weight. It could also be distance, time, volume,\n",
    "units of surface area such as square kilometers or acres, or units that combine multiple dimensions \n",
    "such as miles per hour or meters per second."
   ]
  },
  {
   "cell_type": "markdown",
   "metadata": {},
   "source": [
    "### Comparisons with Integer and Float Expressions"
   ]
  },
  {
   "cell_type": "markdown",
   "metadata": {},
   "source": [
    "When the number needed for a Comparison isn't a physical quantity that can be described with the units in the `pint` library, you should phrase the text in the template string to explain what the number describes. The template string will still need to end with the word \"was\". The value of the expression parameter should be an integer or a floating point number, not a string to be parsed."
   ]
  },
  {
   "cell_type": "code",
   "execution_count": 14,
   "metadata": {},
   "outputs": [
    {
     "data": {
      "text/plain": [
       "\"that the number of children in ${taxpayer}'s household was exactly equal to 3\""
      ]
     },
     "execution_count": 14,
     "metadata": {},
     "output_type": "execute_result"
    }
   ],
   "source": [
    "three_children = Comparison(\"the number of children in ${taxpayer}'s household was\", sign=\"=\", expression=3)\n",
    "str(three_children)"
   ]
  },
  {
   "cell_type": "markdown",
   "metadata": {},
   "source": [
    "The numeric expression will still be available for comparison methods like `implies` or `contradicts`, but no unit conversion will be available."
   ]
  },
  {
   "cell_type": "code",
   "execution_count": 15,
   "metadata": {},
   "outputs": [
    {
     "data": {
      "text/plain": [
       "True"
      ]
     },
     "execution_count": 15,
     "metadata": {},
     "output_type": "execute_result"
    }
   ],
   "source": [
    "at_least_two_children = Comparison(\"the number of children in ${taxpayer}'s household was\", sign=\">=\", expression=2)\n",
    "three_children.implies(at_least_two_children)"
   ]
  },
  {
   "cell_type": "markdown",
   "metadata": {},
   "source": [
    "Floating point comparisons work similarly."
   ]
  },
  {
   "cell_type": "code",
   "execution_count": 16,
   "metadata": {},
   "outputs": [
    {
     "data": {
      "text/plain": [
       "True"
      ]
     },
     "execution_count": 16,
     "metadata": {},
     "output_type": "execute_result"
    }
   ],
   "source": [
    "specific_tax_rate = Comparison(\"${taxpayer}'s marginal income tax rate was\", sign=\"=\", expression=.3)\n",
    "tax_rate_over_25 = Comparison(\"${taxpayer}'s marginal income tax rate was\", sign=\">\", expression=.25)\n",
    "specific_tax_rate.implies(tax_rate_over_25)"
   ]
  },
  {
   "cell_type": "markdown",
   "metadata": {},
   "source": [
    "### Comparisons with Dates"
   ]
  },
  {
   "cell_type": "markdown",
   "metadata": {},
   "source": [
    "The ``expression`` field of a Comparison can be a ``datetime.date``."
   ]
  },
  {
   "cell_type": "code",
   "execution_count": 17,
   "metadata": {},
   "outputs": [
    {
     "data": {
      "text/plain": [
       "'that the date when $work was created was at least 1978-01-01'"
      ]
     },
     "execution_count": 17,
     "metadata": {},
     "output_type": "execute_result"
    }
   ],
   "source": [
    "from datetime import date\n",
    "\n",
    "copyright_date_range = Comparison(\"the date when $work was created was\", sign=\">=\", expression = date(1978,1,1))\n",
    "str(copyright_date_range)"
   ]
  },
  {
   "cell_type": "markdown",
   "metadata": {},
   "source": [
    "And ``date``s and ``date`` ranges can be compared with each other, similar to how numbers can be compared to number ranges."
   ]
  },
  {
   "cell_type": "code",
   "execution_count": 18,
   "metadata": {},
   "outputs": [
    {
     "data": {
      "text/plain": [
       "True"
      ]
     },
     "execution_count": 18,
     "metadata": {},
     "output_type": "execute_result"
    }
   ],
   "source": [
    "copyright_date_specific = Comparison(\"the date when $work was created was\", sign=\"=\", expression = date(1980,6,20))\n",
    "copyright_date_specific.implies(copyright_date_range)"
   ]
  },
  {
   "cell_type": "markdown",
   "metadata": {},
   "source": [
    "## Using Entities as Context Terms"
   ]
  },
  {
   "cell_type": "markdown",
   "metadata": {},
   "source": [
    "AuthoritySpoke isn't limited to comparing Predicates and Comparisons containing unassigned placeholder text. You can use Entity objects to assign specific terms to the placeholders. You then link the terms to the Predicate or Comparison inside a Fact object."
   ]
  },
  {
   "cell_type": "code",
   "execution_count": 19,
   "metadata": {},
   "outputs": [],
   "source": [
    "from authorityspoke import Entity, Fact\n",
    "\n",
    "ann = Entity(\"Ann\", generic=False)\n",
    "claude = Entity(\"Claude\", generic=False)\n",
    "\n",
    "ann_tax_rate = Fact(specific_tax_rate, terms=ann)\n",
    "claude_tax_rate = Fact(tax_rate_over_25, terms=claude)"
   ]
  },
  {
   "cell_type": "code",
   "execution_count": 20,
   "metadata": {},
   "outputs": [
    {
     "data": {
      "text/plain": [
       "\"the fact that Ann's marginal income tax rate was exactly equal to 0.3\""
      ]
     },
     "execution_count": 20,
     "metadata": {},
     "output_type": "execute_result"
    }
   ],
   "source": [
    "str(ann_tax_rate)"
   ]
  },
  {
   "cell_type": "code",
   "execution_count": 21,
   "metadata": {},
   "outputs": [
    {
     "data": {
      "text/plain": [
       "\"the fact that Claude's marginal income tax rate was greater than 0.25\""
      ]
     },
     "execution_count": 21,
     "metadata": {},
     "output_type": "execute_result"
    }
   ],
   "source": [
    "str(claude_tax_rate)"
   ]
  },
  {
   "cell_type": "markdown",
   "metadata": {},
   "source": [
    "Before, we saw that the Comparison `specific_tax_rate` implies `tax_rate_over_25`. But when we have a fact about the tax rate of a specific person named Ann, it doesn't imply anything about Claude's tax rate."
   ]
  },
  {
   "cell_type": "code",
   "execution_count": 22,
   "metadata": {},
   "outputs": [
    {
     "data": {
      "text/plain": [
       "False"
      ]
     },
     "execution_count": 22,
     "metadata": {},
     "output_type": "execute_result"
    }
   ],
   "source": [
    "ann_tax_rate.implies(claude_tax_rate)"
   ]
  },
  {
   "cell_type": "markdown",
   "metadata": {},
   "source": [
    "That seems to be the right answer in this case. But sometimes, in legal reasoning, we want to refer to people in a generic sense. We might want to say that a statement about one person can imply a statement about a different person, because most legal rulings can be generalized to apply to many different people regardless of exactly who those people are. To illustrate that idea, let's create two \"generic\" people and show that a Fact about one of them implies a Fact about the other."
   ]
  },
  {
   "cell_type": "code",
   "execution_count": 23,
   "metadata": {},
   "outputs": [
    {
     "data": {
      "text/plain": [
       "True"
      ]
     },
     "execution_count": 23,
     "metadata": {},
     "output_type": "execute_result"
    }
   ],
   "source": [
    "devon = Entity(\"Devon\", generic=True)\n",
    "elaine = Entity(\"Elaine\", generic=True)\n",
    "\n",
    "devon_tax_rate = Fact(specific_tax_rate, terms=devon)\n",
    "elaine_tax_rate = Fact(tax_rate_over_25, terms=elaine)\n",
    "\n",
    "devon_tax_rate.implies(elaine_tax_rate)"
   ]
  },
  {
   "cell_type": "markdown",
   "metadata": {},
   "source": [
    "In the string representations of Facts, generic Entities are shown in angle brackets as a reminder that they may be considered to correspond to different Entities when being compared to other objects."
   ]
  },
  {
   "cell_type": "code",
   "execution_count": 24,
   "metadata": {},
   "outputs": [
    {
     "data": {
      "text/plain": [
       "\"the fact that <Devon>'s marginal income tax rate was exactly equal to 0.3\""
      ]
     },
     "execution_count": 24,
     "metadata": {},
     "output_type": "execute_result"
    }
   ],
   "source": [
    "str(devon_tax_rate)"
   ]
  },
  {
   "cell_type": "code",
   "execution_count": 25,
   "metadata": {},
   "outputs": [
    {
     "data": {
      "text/plain": [
       "\"the fact that <Elaine>'s marginal income tax rate was greater than 0.25\""
      ]
     },
     "execution_count": 25,
     "metadata": {},
     "output_type": "execute_result"
    }
   ],
   "source": [
    "str(elaine_tax_rate)"
   ]
  },
  {
   "cell_type": "markdown",
   "metadata": {},
   "source": [
    "When the `implies` method produces the answer `True`, we can also use the `explain_implication` method to find out which pairs of generic terms can be considered analagous to one another."
   ]
  },
  {
   "cell_type": "code",
   "execution_count": 26,
   "metadata": {},
   "outputs": [
    {
     "data": {
      "text/plain": [
       "\"Because <Devon> is like <Elaine>,\\n  the fact that <Devon>'s marginal income tax rate was exactly equal to 0.3\\nIMPLIES\\n  the fact that <Elaine>'s marginal income tax rate was greater than 0.25\""
      ]
     },
     "execution_count": 26,
     "metadata": {},
     "output_type": "execute_result"
    }
   ],
   "source": [
    "explanation = devon_tax_rate.explain_implication(elaine_tax_rate)\n",
    "str(explanation)"
   ]
  },
  {
   "cell_type": "markdown",
   "metadata": {},
   "source": [
    "## Identical Terms"
   ]
  },
  {
   "cell_type": "markdown",
   "metadata": {},
   "source": [
    "If for some reason you need to mention the same term more than once in a Predicate or Comparison, use the same placeholder for that term each time. When you provide a sequence of terms for the Fact object using that Predicate, only include each unique term once. The terms should be listed in the same order that they first appear in the template text."
   ]
  },
  {
   "cell_type": "code",
   "execution_count": 27,
   "metadata": {},
   "outputs": [],
   "source": [
    "opened_account = Fact(\n",
    "    Predicate(\"$applicant opened a bank account for $applicant and $cosigner\"), \n",
    "    terms=(devon, elaine)\n",
    ")"
   ]
  },
  {
   "cell_type": "code",
   "execution_count": 28,
   "metadata": {},
   "outputs": [
    {
     "data": {
      "text/plain": [
       "'the fact that <Devon> opened a bank account for <Devon> and <Elaine>'"
      ]
     },
     "execution_count": 28,
     "metadata": {},
     "output_type": "execute_result"
    }
   ],
   "source": [
    "str(opened_account)"
   ]
  },
  {
   "cell_type": "markdown",
   "metadata": {},
   "source": [
    "## Interchangeable Terms"
   ]
  },
  {
   "cell_type": "markdown",
   "metadata": {},
   "source": [
    "Sometimes, a Predicate or Comparison needs to mention two terms that are different from each other, but that have interchangeable positions in that particular phrase. To convey interchangeability, the template string should use identical text for the placeholders for the interchangeable terms, except that the different placeholders should each end with a different digit."
   ]
  },
  {
   "cell_type": "code",
   "execution_count": 29,
   "metadata": {},
   "outputs": [
    {
     "data": {
      "text/plain": [
       "'the fact that Ann and Bob both were members of the same family'"
      ]
     },
     "execution_count": 29,
     "metadata": {},
     "output_type": "execute_result"
    }
   ],
   "source": [
    "ann = Entity(\"Ann\", generic=False)\n",
    "bob = Entity(\"Bob\", generic=False)\n",
    "\n",
    "ann_and_bob_were_family = Fact(Predicate(\"$relative1 and $relative2 both were members of the same family\"), \n",
    "    terms=(ann, bob))\n",
    "bob_and_ann_were_family = Fact(Predicate(\"$relative1 and $relative2 both were members of the same family\"), \n",
    "    terms=(bob, ann))\n",
    "\n",
    "str(ann_and_bob_were_family)"
   ]
  },
  {
   "cell_type": "code",
   "execution_count": 30,
   "metadata": {},
   "outputs": [
    {
     "data": {
      "text/plain": [
       "'the fact that Bob and Ann both were members of the same family'"
      ]
     },
     "execution_count": 30,
     "metadata": {},
     "output_type": "execute_result"
    }
   ],
   "source": [
    "str(bob_and_ann_were_family)"
   ]
  },
  {
   "cell_type": "code",
   "execution_count": 31,
   "metadata": {},
   "outputs": [
    {
     "data": {
      "text/plain": [
       "True"
      ]
     },
     "execution_count": 31,
     "metadata": {},
     "output_type": "execute_result"
    }
   ],
   "source": [
    "ann_and_bob_were_family.means(bob_and_ann_were_family)"
   ]
  },
  {
   "cell_type": "markdown",
   "metadata": {},
   "source": [
    "If you choose placeholders that don't fit the pattern of being identical except for a final digit, then transposing two non-generic terms will change the meaning of the Fact."
   ]
  },
  {
   "cell_type": "code",
   "execution_count": 32,
   "metadata": {},
   "outputs": [
    {
     "data": {
      "text/plain": [
       "\"the fact that Ann was Bob's parent\""
      ]
     },
     "execution_count": 32,
     "metadata": {},
     "output_type": "execute_result"
    }
   ],
   "source": [
    "parent_sentence = Predicate(\"$mother was ${child}'s parent\")\n",
    "ann_is_parent = Fact(parent_sentence, terms = (ann, bob))\n",
    "bob_is_parent = Fact(parent_sentence, terms = (bob, ann))\n",
    "\n",
    "str(ann_is_parent)"
   ]
  },
  {
   "cell_type": "code",
   "execution_count": 33,
   "metadata": {},
   "outputs": [
    {
     "data": {
      "text/plain": [
       "\"the fact that Bob was Ann's parent\""
      ]
     },
     "execution_count": 33,
     "metadata": {},
     "output_type": "execute_result"
    }
   ],
   "source": [
    "str(bob_is_parent)"
   ]
  },
  {
   "cell_type": "code",
   "execution_count": 34,
   "metadata": {},
   "outputs": [
    {
     "data": {
      "text/plain": [
       "False"
      ]
     },
     "execution_count": 34,
     "metadata": {},
     "output_type": "execute_result"
    }
   ],
   "source": [
    "ann_is_parent.means(bob_is_parent)"
   ]
  },
  {
   "cell_type": "markdown",
   "metadata": {},
   "source": [
    "## Higher-Order Predicates"
   ]
  },
  {
   "cell_type": "markdown",
   "metadata": {},
   "source": [
    "In AuthoritySpoke, terms referenced by a Predicate or Comparison can contain references to Facts as well as Entities. That mean they can include the text of other Predicates. This feature is intended for incorporating references to what people said, knew, or believed."
   ]
  },
  {
   "cell_type": "code",
   "execution_count": 35,
   "metadata": {},
   "outputs": [],
   "source": [
    "statement = Predicate(\"$speaker told $listener $event\")\n",
    "bob_had_drugs = Fact(smaller_drug_comparison, terms=bob)\n",
    "bob_told_ann_about_drugs = Fact(statement, terms=(bob, ann, bob_had_drugs))"
   ]
  },
  {
   "cell_type": "code",
   "execution_count": 36,
   "metadata": {},
   "outputs": [
    {
     "data": {
      "text/plain": [
       "'the fact that Bob told Ann the fact that the weight of marijuana that Bob possessed was at least 250 gram'"
      ]
     },
     "execution_count": 36,
     "metadata": {},
     "output_type": "execute_result"
    }
   ],
   "source": [
    "str(bob_told_ann_about_drugs)"
   ]
  },
  {
   "cell_type": "markdown",
   "metadata": {},
   "source": [
    "A higher-order Predicate can be used to establish that one Fact implies another. In legal reasoning, it's common to accept that if a person knew or communicated something, then the person also knew or communicated any facts that are obviously implied by what the person actually knew or said. In this example, the fact that Bob told Ann he possessed more than 0.5 kilograms means he also told Ann that he possessed more than 250 grams."
   ]
  },
  {
   "cell_type": "code",
   "execution_count": 37,
   "metadata": {},
   "outputs": [
    {
     "data": {
      "text/plain": [
       "'the fact that Bob told Ann the fact that the weight of marijuana that Bob possessed was at least 0.5 kilogram'"
      ]
     },
     "execution_count": 37,
     "metadata": {},
     "output_type": "execute_result"
    }
   ],
   "source": [
    "bob_had_more_drugs = Fact(drug_comparison, terms=bob)\n",
    "bob_told_ann_about_more_drugs = Fact(statement, terms=(bob, ann, bob_had_more_drugs))\n",
    "str(bob_told_ann_about_more_drugs)"
   ]
  },
  {
   "cell_type": "code",
   "execution_count": 38,
   "metadata": {},
   "outputs": [
    {
     "data": {
      "text/plain": [
       "True"
      ]
     },
     "execution_count": 38,
     "metadata": {},
     "output_type": "execute_result"
    }
   ],
   "source": [
    "bob_told_ann_about_more_drugs.implies(bob_told_ann_about_drugs)"
   ]
  },
  {
   "cell_type": "markdown",
   "metadata": {},
   "source": [
    "However, a contradiction between Facts referenced in higher-order Predicates doesn't cause the first-order Facts to contradict one another. It's not contradictory to say that a person has said two contradictory things."
   ]
  },
  {
   "cell_type": "code",
   "execution_count": 39,
   "metadata": {},
   "outputs": [
    {
     "data": {
      "text/plain": [
       "'the fact that Bob told Ann the fact that the weight of marijuana that Bob possessed was no more than 10 gram'"
      ]
     },
     "execution_count": 39,
     "metadata": {},
     "output_type": "execute_result"
    }
   ],
   "source": [
    "bob_had_less_drugs = Fact(drug_comparison_with_upper_bound, terms=bob)\n",
    "bob_told_ann_about_less_drugs = Fact(statement, terms=(bob, ann, bob_had_less_drugs))\n",
    "str(bob_told_ann_about_less_drugs)"
   ]
  },
  {
   "cell_type": "code",
   "execution_count": 40,
   "metadata": {},
   "outputs": [
    {
     "data": {
      "text/plain": [
       "False"
      ]
     },
     "execution_count": 40,
     "metadata": {},
     "output_type": "execute_result"
    }
   ],
   "source": [
    "bob_told_ann_about_less_drugs.contradicts(bob_told_ann_about_more_drugs)"
   ]
  },
  {
   "cell_type": "markdown",
   "metadata": {},
   "source": [
    "Higher-order Facts can refer to terms that weren't referenced by the first-order Fact. AuthoritySpoke will recognize that the use of different terms in the second-order Fact changes the meaning of the first-order Fact."
   ]
  },
  {
   "cell_type": "code",
   "execution_count": 41,
   "metadata": {},
   "outputs": [
    {
     "data": {
      "text/plain": [
       "'the fact that Bob told Ann the fact that the weight of marijuana that Claude possessed was at least 250 gram'"
      ]
     },
     "execution_count": 41,
     "metadata": {},
     "output_type": "execute_result"
    }
   ],
   "source": [
    "claude_had_drugs = Fact(smaller_drug_comparison, terms=claude)\n",
    "bob_told_ann_about_claude = Fact(statement, terms=(bob, ann, claude_had_drugs))\n",
    "str(bob_told_ann_about_claude)"
   ]
  },
  {
   "cell_type": "code",
   "execution_count": 42,
   "metadata": {},
   "outputs": [
    {
     "data": {
      "text/plain": [
       "False"
      ]
     },
     "execution_count": 42,
     "metadata": {},
     "output_type": "execute_result"
    }
   ],
   "source": [
    "bob_told_ann_about_drugs.implies(bob_told_ann_about_claude)"
   ]
  }
 ],
 "metadata": {
  "kernelspec": {
   "display_name": "authorityspoke",
   "language": "python",
   "name": "authorityspoke"
  },
  "language_info": {
   "codemirror_mode": {
    "name": "ipython",
    "version": 3
   },
   "file_extension": ".py",
   "mimetype": "text/x-python",
   "name": "python",
   "nbconvert_exporter": "python",
   "pygments_lexer": "ipython3",
   "version": "3.9.5"
  }
 },
 "nbformat": 4,
 "nbformat_minor": 4
}
