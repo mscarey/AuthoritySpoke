{
 "cells": [
  {
   "cell_type": "markdown",
   "metadata": {},
   "source": [
    "This tutorial will show how to create and load objects representing legal Holdings in AuthoritySpoke."
   ]
  },
  {
   "cell_type": "markdown",
   "metadata": {},
   "source": [
    "To get ready, we need to repeat some setup steps we already saw in the `introduction` notebook. First, import the package."
   ]
  },
  {
   "cell_type": "code",
   "execution_count": 1,
   "metadata": {},
   "outputs": [],
   "source": [
    "import authorityspoke\n",
    "from authorityspoke.io.loaders import load_and_read_decision"
   ]
  },
  {
   "cell_type": "markdown",
   "metadata": {},
   "source": [
    "A Holding is an Opinion's interpretation of the meaning of a provision of a legal Code.\n",
    "\n",
    "So we need to load some Opinions."
   ]
  },
  {
   "cell_type": "code",
   "execution_count": 2,
   "metadata": {},
   "outputs": [],
   "source": [
    "oracle = load_and_read_decision(\"oracle_h.json\").majority\n",
    "lotus = load_and_read_decision(\"lotus_h.json\").majority"
   ]
  },
  {
   "cell_type": "markdown",
   "metadata": {},
   "source": [
    "And also load some legal Codes."
   ]
  },
  {
   "cell_type": "code",
   "execution_count": 3,
   "metadata": {},
   "outputs": [],
   "source": [
    "from authorityspoke import Regime\n",
    "\n",
    "from authorityspoke.io.loaders import load_and_read_code\n",
    "\n",
    "usa = Regime()\n",
    "\n",
    "us_constitution = load_and_read_code(\"constitution.xml\")\n",
    "usc_title_17 = load_and_read_code(\"usc17.xml\")\n",
    "code_of_federal_regulations_title_37 = load_and_read_code(\"cfr37.xml\")\n",
    "\n",
    "usa.set_code(us_constitution)\n",
    "usa.set_code(usc_title_17)\n",
    "usa.set_code(code_of_federal_regulations_title_37)"
   ]
  },
  {
   "cell_type": "markdown",
   "metadata": {},
   "source": [
    "## Loading Holdings from Existing JSON"
   ]
  },
  {
   "cell_type": "markdown",
   "metadata": {},
   "source": [
    "Now we're ready to look at the process of describing legal Holdings and loading that information into AuthoritySpoke. In version 0.3, although there's not yet a web interface for loading this data, there is an interface for loading JSON files, and there's an OpenAPI schema specification for the input data (see below). \n",
    "\n",
    "Although there are several interfaces for loading Authorityspoke objects in the `authorityspoke.io.loaders` and `authorityspoke.io.schemas` modules, the most useful way to load data is to create a JSON document that contains a list of objects, where each object represents one Holding representing a list of Holdings. Then you can load the Holdings into AuthoritySpoke objects using the `loaders.load_and_read_holdings` function.\n"
   ]
  },
  {
   "cell_type": "code",
   "execution_count": 4,
   "metadata": {},
   "outputs": [],
   "source": [
    "from authorityspoke.io.loaders import load_and_read_holdings\n",
    "\n",
    "oracle_holdings = load_and_read_holdings(\"holding_oracle.json\", regime=usa)\n",
    "lotus_holdings = load_and_read_holdings(\"holding_lotus.json\", regime=usa)"
   ]
  },
  {
   "cell_type": "markdown",
   "metadata": {},
   "source": [
    "If you want to open one of the input JSON files in your own text editor for comparison, you can find them in the folder `example_data/holdings/`."
   ]
  },
  {
   "cell_type": "markdown",
   "metadata": {},
   "source": [
    "`holding_oracle.json` contains a list of holdings. These are places where the text of the _Oracle_ opinion endorses legal rules (or sometimes, rejects legal rules). Each of these rules is described procedurally, in terms of inputs and outputs. \n",
    "\n",
    "Each holding in the JSON input may also include an `anchors` field indicating where the holding can be found in the opinion. For instance, the first holding of _Oracle America v. Google_ is derived from the following sentence from the majority opinion:\n",
    "\n",
    "> By statute, a work must be “original” to qualify for copyright protection. 17 U.S.C. § 102(a).\n",
    "\n",
    "The `anchors` field doesn't do much yet in AuthoritySpoke version 0.3, but in future versions it'll help link each Holding to the relevant parts of the Opinion."
   ]
  },
  {
   "cell_type": "markdown",
   "metadata": {},
   "source": [
    "## The Parts of a Holding in JSON"
   ]
  },
  {
   "cell_type": "markdown",
   "metadata": {},
   "source": [
    "Now let's look at the part of `holding_oracle.json` representing that first holding.\n",
    "\n",
    "```\n",
    "\"holdings\": [\n",
    "    {\n",
    "        \"inputs\": {\n",
    "            \"type\": \"fact\",\n",
    "            \"content\": \"{the Java API} was an original work\",\n",
    "            \"truth\": false,\n",
    "            \"anchors\": \"a work must be “original”\"\n",
    "        },\n",
    "        \"outputs\": {\n",
    "            \"type\": \"fact\",\n",
    "            \"content\": \"the Java API was copyrightable\",\n",
    "            \"truth\": false,\n",
    "            \"anchors\": \"must be “original” to qualify for |copyright protection.|\"\n",
    "        },\n",
    "        \"mandatory\": true,\n",
    "        \"enactments\": {\n",
    "            \"source\": \"/us/usc/t17/s102/a\",\n",
    "            \"exact\": \"Copyright protection subsists, in accordance with this title, in original works of authorship fixed in any tangible medium of expression, now known or later developed, from which they can be perceived, reproduced, or otherwise communicated, either directly or with the aid of a machine or device.\",\n",
    "            \"name\": \"copyright protection provision\",\n",
    "            \"anchors\": \"qualify for copyright protection. |17 U.S.C. § 102(a)|.\"\n",
    "        },\n",
    "        \"anchors\": \"By statute, a work |must be “original” to qualify| for\"\n",
    "    },\n",
    "    ]\n",
    "```"
   ]
  },
  {
   "cell_type": "markdown",
   "metadata": {},
   "source": [
    "To compare the input data to the created Python objects, you can link the Holdings to the Opinions using the `.posit` method. As we look at the parts of the JSON file, the code cells will show how fields from the JSON affect the structure of the Holding object."
   ]
  },
  {
   "cell_type": "code",
   "execution_count": 5,
   "metadata": {},
   "outputs": [
    {
     "name": "stdout",
     "output_type": "stream",
     "text": [
      "the Holding to ACCEPT\n",
      "  the Rule that the court MUST SOMETIMES impose the\n",
      "    RESULT:\n",
      "      the Fact it is false that <the Java API> was copyrightable\n",
      "    GIVEN:\n",
      "      the Fact it is false that <the Java API> was an original work\n",
      "    GIVEN the ENACTMENT:\n",
      "      \"Copyright protection subsists, in accordance with this title, in\n",
      "      original works of authorship fixed in any tangible medium of\n",
      "      expression, now known or later developed, from which they can be\n",
      "      perceived, reproduced, or otherwise communicated, either directly or\n",
      "      with the aid of a machine or device.\" (Title 17, /us/usc/t17/s102/a)\n"
     ]
    }
   ],
   "source": [
    "oracle.posit(oracle_holdings)\n",
    "lotus.posit(lotus_holdings)\n",
    "\n",
    "print(oracle.holdings[0])"
   ]
  },
  {
   "cell_type": "markdown",
   "metadata": {},
   "source": [
    "This Holding means that according to the cited enactment, if it's false that \"the Java API was an original work\", then it's mandatory for the court to find it to be false that \"the Java API was copyrightable\".\n",
    "\n",
    "The JSON file represented these Factors inside an \"inputs\" field (labeled as the \"GIVEN\" Factors when you print the Holding object) and an \"outputs\" field (labeled as \"RESULT\" Factors). Inputs are the preconditions for applying the Holding, and outputs are the results. Not shown here, Rules can also have \"despite\" Factors, which are Factors that don't need to be present to trigger the rule, but that don't prevent the rule from applying if they're present. There can be more than one Factor in the \"inputs\", \"outputs\" or \"despite\" categories, and if so they would be listed together in square brackets in the JSON."
   ]
  },
  {
   "cell_type": "code",
   "execution_count": 6,
   "metadata": {},
   "outputs": [
    {
     "name": "stdout",
     "output_type": "stream",
     "text": [
      "the Fact it is false that <the Java API> was an original work\n"
     ]
    }
   ],
   "source": [
    "print(oracle.holdings[0].inputs[0])"
   ]
  },
  {
   "cell_type": "markdown",
   "metadata": {},
   "source": [
    "The curly brackets around `{the Java API}` indicate that the parser should consider that phrase to be a reference to an Entity object, which becomes one of the input's `context_factors`. If such an object hasn't been referenced before in the file, it will be created."
   ]
  },
  {
   "cell_type": "code",
   "execution_count": 7,
   "metadata": {},
   "outputs": [
    {
     "name": "stdout",
     "output_type": "stream",
     "text": [
      "(Entity(name='the Java API', generic=True, plural=False),)\n"
     ]
    }
   ],
   "source": [
    "print(oracle.holdings[0].inputs[0].context_factors)"
   ]
  },
  {
   "cell_type": "markdown",
   "metadata": {},
   "source": [
    "The JSON representation of a Rule can also have \"mandatory\" and \"universal\" fields. If omitted, the values of these fields are implied as False. \"universal\" means that the Rule applies whenever its inputs are present. \"mandatory\" means that when Rule applies, the court has no discretion and must accept the outputs."
   ]
  },
  {
   "cell_type": "code",
   "execution_count": 8,
   "metadata": {},
   "outputs": [
    {
     "name": "stdout",
     "output_type": "stream",
     "text": [
      "True\n"
     ]
    }
   ],
   "source": [
    "print(oracle.holdings[0].mandatory)"
   ]
  },
  {
   "cell_type": "markdown",
   "metadata": {},
   "source": [
    "The JSON can also contain fields representing Enactments. It identifies a passage of legislative text with a [United States Legislative Markup](https://github.com/usgpo/uslm) identifier that shows the \"path\" to the text. In this case, \"us\" refers to the jurisdiction (the US federal government), \"usc\" refers to the Code (the United States Code), \"t17\" specifies Title 17 of the United States Code, \"s102\" specifies Section 102 of Title 17, and \"a\" specifies subsection (a) of Section 102. If the relevant passage is less than the entire section or subsection, an \"exact\" field can identify the full text of the passage or \"prefix\" and \"suffix\" fields can be used to the phrase by what comes immediately before or after it. You don't need to include \"prefix\" and \"suffix\" if you're sure the phrase you're trying to select only occurs once in the statute subdivision you've cited. Alternatively, a passage can be saved as a `text` field with pipe characters that split it into three parts for \"prefix\", \"exact\", and \"suffix\" fields.\n",
    "\n",
    "For instance, to get just the phrase \"original works of authorship\", we could have used the field:\n",
    "```\n",
    "\"text\": \"in accordance with this title, in|original works of authorship|fixed\"\n",
    "```"
   ]
  },
  {
   "cell_type": "code",
   "execution_count": 9,
   "metadata": {},
   "outputs": [
    {
     "name": "stdout",
     "output_type": "stream",
     "text": [
      "\"Copyright protection subsists, in accordance with this title, in\n",
      "original works of authorship fixed in any tangible medium of\n",
      "expression, now known or later developed, from which they can be\n",
      "perceived, reproduced, or otherwise communicated, either directly or\n",
      "with the aid of a machine or device.\" (Title 17, /us/usc/t17/s102/a)\n"
     ]
    }
   ],
   "source": [
    "print(oracle.holdings[0].enactments[0])"
   ]
  },
  {
   "cell_type": "markdown",
   "metadata": {},
   "source": [
    "The text selector in the example had just an `exact` field, with no `prefix` or `suffix`."
   ]
  },
  {
   "cell_type": "code",
   "execution_count": 10,
   "metadata": {},
   "outputs": [
    {
     "data": {
      "text/plain": [
       "''"
      ]
     },
     "execution_count": 10,
     "metadata": {},
     "output_type": "execute_result"
    }
   ],
   "source": [
    "oracle.holdings[0].enactments[0].selector.prefix"
   ]
  },
  {
   "cell_type": "markdown",
   "metadata": {},
   "source": [
    "The \"name\" field is a nickname that can be used to refer to the passage again later in the same file. For any Factor or Enactment object, you can add a \"name\" field and assign a unique string value as the name. If you need to refer to the object again in the list of Holdings you're importing, you can replace the object with the name string. This means a Holding object could have \"input\", \"despite\" and \"output\" fields containing lists of string indentifiers of Factors defined elsewhere. Enactment objects can be replaced the same way in the \"enactments\" and \"enactments_despite\" fields."
   ]
  },
  {
   "cell_type": "code",
   "execution_count": 11,
   "metadata": {},
   "outputs": [
    {
     "name": "stdout",
     "output_type": "stream",
     "text": [
      "copyright protection provision\n"
     ]
    }
   ],
   "source": [
    "print(oracle.holdings[0].enactments[0].name)"
   ]
  },
  {
   "cell_type": "markdown",
   "metadata": {},
   "source": [
    "In the second holding in the JSON file, you can see where the enactment is referenced by its name \"copy protection provision\" instead of being repeated in its entirety."
   ]
  },
  {
   "cell_type": "markdown",
   "metadata": {},
   "source": [
    "```\n",
    "    {\n",
    "        \"inputs\": [\n",
    "            {\n",
    "                \"type\": \"fact\",\n",
    "                \"content\": \"the Java API was independently created by the author, as opposed to copied from other works\",\n",
    "                \"anchors\": \"the work was independently created by the author (as opposed to copied from other works)\"\n",
    "            },\n",
    "            {\n",
    "                \"type\": \"fact\",\n",
    "                \"content\": \"the Java API possessed at least some minimal degree of creativity\",\n",
    "                \"anchors\": \"it possesses at least some minimal degree of creativity.\"\n",
    "            }\n",
    "        ],\n",
    "        \"outputs\": {\n",
    "            \"type\": \"fact\",\n",
    "            \"content\": \"the Java API was an original work\",\n",
    "            \"anchors\": \"Original, as the term is used in copyright\"\n",
    "        },\n",
    "        \"mandatory\": true,\n",
    "        \"universal\": true,\n",
    "        \"enactments\": \"copyright protection provision\"\n",
    "    },\n",
    "```"
   ]
  },
  {
   "cell_type": "markdown",
   "metadata": {},
   "source": [
    "There can also be an \"enactments_despite\" field, which identifies legislative text that doesn't need to be present for the Rule to apply, but that also doesn't negate the validity of the Rule."
   ]
  },
  {
   "cell_type": "markdown",
   "metadata": {},
   "source": [
    "## JSON API Specification"
   ]
  },
  {
   "cell_type": "markdown",
   "metadata": {},
   "source": [
    "If you want to view the schema specification, you can find it in the `io.api_spec` module. When you read it, you might be surprised to see that every Holding object contains a Rule, and every Rule contains a Procedure. \n",
    "\n",
    "If you prefer, instead of nesting a Rule object and Procedure object inside the Holding object, AuthoritySpoke's data loading library allows you to place all the properties of the Rule and the Procedure directly into the Holding object, as shown in the examples above."
   ]
  },
  {
   "cell_type": "code",
   "execution_count": 12,
   "metadata": {},
   "outputs": [
    {
     "name": "stdout",
     "output_type": "stream",
     "text": [
      "components:\n",
      "  schemas:\n",
      "    Allegation:\n",
      "      properties:\n",
      "        absent:\n",
      "          default: false\n",
      "          type: boolean\n",
      "        generic:\n",
      "          default: false\n",
      "          type: boolean\n",
      "        name:\n",
      "          default: null\n",
      "          nullable: true\n",
      "          type: string\n",
      "        pleading:\n",
      "          allOf:\n",
      "          - $ref: '#/components/schemas/Pleading'\n",
      "          default: null\n",
      "          nullable: true\n",
      "        statement:\n",
      "          allOf:\n",
      "          - $ref: '#/components/schemas/Fact'\n",
      "          default: null\n",
      "          nullable: true\n",
      "      type: object\n",
      "    Enactment:\n",
      "      properties:\n",
      "        name:\n",
      "          default: null\n",
      "          nullable: true\n",
      "          type: string\n",
      "        selector:\n",
      "          allOf:\n",
      "          - $ref: '#/components/schemas/Selector'\n",
      "          default: null\n",
      "          nullable: true\n",
      "        source:\n",
      "          format: url\n",
      "          type: string\n",
      "      type: object\n",
      "    Entity:\n",
      "      properties:\n",
      "        generic:\n",
      "          default: true\n",
      "          type: boolean\n",
      "        name:\n",
      "          default: null\n",
      "          nullable: true\n",
      "          type: string\n",
      "        plural:\n",
      "          type: boolean\n",
      "      type: object\n",
      "    Evidence:\n",
      "      properties:\n",
      "        absent:\n",
      "          default: false\n",
      "          type: boolean\n",
      "        exhibit:\n",
      "          allOf:\n",
      "          - $ref: '#/components/schemas/Exhibit'\n",
      "          default: null\n",
      "          nullable: true\n",
      "        generic:\n",
      "          default: false\n",
      "          type: boolean\n",
      "        name:\n",
      "          default: null\n",
      "          nullable: true\n",
      "          type: string\n",
      "        to_effect:\n",
      "          allOf:\n",
      "          - $ref: '#/components/schemas/Fact'\n",
      "          default: null\n",
      "          nullable: true\n",
      "      type: object\n",
      "    Exhibit:\n",
      "      properties:\n",
      "        absent:\n",
      "          default: false\n",
      "          type: boolean\n",
      "        form:\n",
      "          default: null\n",
      "          nullable: true\n",
      "          type: string\n",
      "        generic:\n",
      "          default: false\n",
      "          type: boolean\n",
      "        name:\n",
      "          default: null\n",
      "          nullable: true\n",
      "          type: string\n",
      "        statement:\n",
      "          allOf:\n",
      "          - $ref: '#/components/schemas/Fact'\n",
      "          default: null\n",
      "          nullable: true\n",
      "        statement_attribution:\n",
      "          allOf:\n",
      "          - $ref: '#/components/schemas/Entity'\n",
      "          default: null\n",
      "          nullable: true\n",
      "      type: object\n",
      "    Fact:\n",
      "      properties:\n",
      "        absent:\n",
      "          default: false\n",
      "          type: boolean\n",
      "        context_factors:\n",
      "          items:\n",
      "            $ref: '#/components/schemas/Factor'\n",
      "          type: array\n",
      "        generic:\n",
      "          default: false\n",
      "          type: boolean\n",
      "        name:\n",
      "          default: null\n",
      "          nullable: true\n",
      "          type: string\n",
      "        predicate:\n",
      "          $ref: '#/components/schemas/Predicate'\n",
      "        standard_of_proof:\n",
      "          default: null\n",
      "          nullable: true\n",
      "          type: string\n",
      "      type: object\n",
      "    Factor:\n",
      "      discriminator:\n",
      "        propertyName: type\n",
      "      oneOf:\n",
      "      - $ref: '#/components/schemas/Fact'\n",
      "      - $ref: '#/components/schemas/Exhibit'\n",
      "      - $ref: '#/components/schemas/Evidence'\n",
      "      - $ref: '#/components/schemas/Pleading'\n",
      "      - $ref: '#/components/schemas/Allegation'\n",
      "    Holding:\n",
      "      properties:\n",
      "        decided:\n",
      "          default: true\n",
      "          type: boolean\n",
      "        exclusive:\n",
      "          default: false\n",
      "          type: boolean\n",
      "        generic:\n",
      "          default: false\n",
      "          type: boolean\n",
      "        rule:\n",
      "          $ref: '#/components/schemas/Rule'\n",
      "        rule_valid:\n",
      "          default: true\n",
      "          type: boolean\n",
      "      type: object\n",
      "    Pleading:\n",
      "      properties:\n",
      "        absent:\n",
      "          default: false\n",
      "          type: boolean\n",
      "        filer:\n",
      "          allOf:\n",
      "          - $ref: '#/components/schemas/Entity'\n",
      "          default: null\n",
      "          nullable: true\n",
      "        generic:\n",
      "          default: false\n",
      "          type: boolean\n",
      "        name:\n",
      "          default: null\n",
      "          nullable: true\n",
      "          type: string\n",
      "      type: object\n",
      "    Predicate:\n",
      "      properties:\n",
      "        comparison:\n",
      "          default: ''\n",
      "          enum:\n",
      "          - ''\n",
      "          - '>='\n",
      "          - ==\n",
      "          - <>\n",
      "          - <=\n",
      "          - '='\n",
      "          - '>'\n",
      "          - <\n",
      "          type: string\n",
      "        content:\n",
      "          type: string\n",
      "        quantity:\n",
      "          default: null\n",
      "          nullable: true\n",
      "        reciprocal:\n",
      "          default: false\n",
      "          type: boolean\n",
      "        truth:\n",
      "          default: true\n",
      "          type: boolean\n",
      "      type: object\n",
      "    Procedure:\n",
      "      properties:\n",
      "        despite:\n",
      "          items:\n",
      "            $ref: '#/components/schemas/Factor'\n",
      "          type: array\n",
      "        inputs:\n",
      "          items:\n",
      "            $ref: '#/components/schemas/Factor'\n",
      "          type: array\n",
      "        outputs:\n",
      "          items:\n",
      "            $ref: '#/components/schemas/Factor'\n",
      "          type: array\n",
      "      type: object\n",
      "    Rule:\n",
      "      properties:\n",
      "        enactments:\n",
      "          items:\n",
      "            $ref: '#/components/schemas/Enactment'\n",
      "          type: array\n",
      "        enactments_despite:\n",
      "          items:\n",
      "            $ref: '#/components/schemas/Enactment'\n",
      "          type: array\n",
      "        generic:\n",
      "          default: false\n",
      "          type: boolean\n",
      "        mandatory:\n",
      "          default: false\n",
      "          type: boolean\n",
      "        name:\n",
      "          default: null\n",
      "          nullable: true\n",
      "          type: string\n",
      "        procedure:\n",
      "          $ref: '#/components/schemas/Procedure'\n",
      "        universal:\n",
      "          default: false\n",
      "          type: boolean\n",
      "      type: object\n",
      "    Selector:\n",
      "      properties:\n",
      "        exact:\n",
      "          default: ''\n",
      "          type: string\n",
      "        prefix:\n",
      "          default: ''\n",
      "          type: string\n",
      "        suffix:\n",
      "          default: ''\n",
      "          type: string\n",
      "      type: object\n",
      "info:\n",
      "  description: An interface for annotating judicial holdings\n",
      "  title: AuthoritySpoke Holding API\n",
      "  version: 0.1.0\n",
      "openapi: 3.0.2\n",
      "paths: {}\n",
      "\n"
     ]
    }
   ],
   "source": [
    "from authorityspoke.io.api_spec import make_spec\n",
    "\n",
    "yaml = make_spec().to_yaml()\n",
    "\n",
    "# Viewing the schema specification used for AuthoritySpoke's schema objects in the YAML format\n",
    "print(yaml)"
   ]
  },
  {
   "cell_type": "markdown",
   "metadata": {},
   "source": [
    "## Exporting AuthoritySpoke Holdings back to JSON"
   ]
  },
  {
   "cell_type": "markdown",
   "metadata": {},
   "source": [
    "Finally, if you want to convert an AuthoritySpoke object back to JSON or to a Python dictionary, you can do so with the `io.dump` module. If you need to make some changes to AuthoritySpoke objects, one way to do so would be to convert them to JSON, edit the JSON, and then load them back into AuthoritySpoke. The JSON format is also easier to store and share over the web."
   ]
  },
  {
   "cell_type": "code",
   "execution_count": 13,
   "metadata": {},
   "outputs": [
    {
     "data": {
      "text/plain": [
       "{'rule_valid': True,\n",
       " 'exclusive': False,\n",
       " 'decided': True,\n",
       " 'generic': False,\n",
       " 'rule': {'enactments': [{'source': '/us/usc/t17/s102/a',\n",
       "    'selector': {'exact': 'Copyright protection subsists, in accordance with this title, in original works of authorship fixed in any tangible medium of expression, now known or later developed, from which they can be perceived, reproduced, or otherwise communicated, either directly or with the aid of a machine or device.',\n",
       "     'suffix': '',\n",
       "     'prefix': ''},\n",
       "    'name': 'copyright protection provision'}],\n",
       "  'enactments_despite': [],\n",
       "  'name': None,\n",
       "  'generic': False,\n",
       "  'universal': False,\n",
       "  'mandatory': True,\n",
       "  'procedure': {'inputs': [{'standard_of_proof': None,\n",
       "     'predicate': {'content': '{} was an original work',\n",
       "      'comparison': '',\n",
       "      'truth': False,\n",
       "      'reciprocal': False,\n",
       "      'quantity': None},\n",
       "     'absent': False,\n",
       "     'context_factors': [{'plural': False,\n",
       "       'name': 'the Java API',\n",
       "       'generic': True,\n",
       "       'type': 'Entity'}],\n",
       "     'name': 'false the Java API was an original work',\n",
       "     'generic': False,\n",
       "     'type': 'Fact'}],\n",
       "   'outputs': [{'standard_of_proof': None,\n",
       "     'predicate': {'content': '{} was copyrightable',\n",
       "      'comparison': '',\n",
       "      'truth': False,\n",
       "      'reciprocal': False,\n",
       "      'quantity': None},\n",
       "     'absent': False,\n",
       "     'context_factors': [{'plural': False,\n",
       "       'name': 'the Java API',\n",
       "       'generic': True,\n",
       "       'type': 'Entity'}],\n",
       "     'name': 'false the Java API was copyrightable',\n",
       "     'generic': False,\n",
       "     'type': 'Fact'}],\n",
       "   'despite': []}}}"
      ]
     },
     "execution_count": 13,
     "metadata": {},
     "output_type": "execute_result"
    }
   ],
   "source": [
    "from authorityspoke.io import dump\n",
    "\n",
    "dump.to_dict(oracle.holdings[0])"
   ]
  }
 ],
 "metadata": {
  "kernelspec": {
   "display_name": "Python 3",
   "language": "python",
   "name": "python3"
  },
  "language_info": {
   "codemirror_mode": {
    "name": "ipython",
    "version": 3
   },
   "file_extension": ".py",
   "mimetype": "text/x-python",
   "name": "python",
   "nbconvert_exporter": "python",
   "pygments_lexer": "ipython3",
   "version": "3.7.5"
  }
 },
 "nbformat": 4,
 "nbformat_minor": 4
}
